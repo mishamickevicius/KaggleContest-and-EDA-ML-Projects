{
 "cells": [
  {
   "cell_type": "code",
   "execution_count": 1,
   "id": "56f84bc1-ee91-4646-98e5-ce9ef91fd25a",
   "metadata": {},
   "outputs": [
    {
     "name": "stdout",
     "output_type": "stream",
     "text": [
      "Requirement already satisfied: numpy in /usr/local/lib/python3.11/dist-packages (1.26.0)\n",
      "Requirement already satisfied: pandas in /usr/local/lib/python3.11/dist-packages (2.1.1)\n",
      "Requirement already satisfied: matplotlib in /usr/local/lib/python3.11/dist-packages (3.8.0)\n",
      "Requirement already satisfied: scikit-learn in /usr/local/lib/python3.11/dist-packages (1.3.1)\n",
      "Requirement already satisfied: python-dateutil>=2.8.2 in /usr/local/lib/python3.11/dist-packages (from pandas) (2.8.2)\n",
      "Requirement already satisfied: pytz>=2020.1 in /usr/local/lib/python3.11/dist-packages (from pandas) (2023.3.post1)\n",
      "Requirement already satisfied: tzdata>=2022.1 in /usr/local/lib/python3.11/dist-packages (from pandas) (2023.3)\n",
      "Requirement already satisfied: contourpy>=1.0.1 in /usr/local/lib/python3.11/dist-packages (from matplotlib) (1.1.1)\n",
      "Requirement already satisfied: cycler>=0.10 in /usr/local/lib/python3.11/dist-packages (from matplotlib) (0.11.0)\n",
      "Requirement already satisfied: fonttools>=4.22.0 in /usr/local/lib/python3.11/dist-packages (from matplotlib) (4.42.1)\n",
      "Requirement already satisfied: kiwisolver>=1.0.1 in /usr/local/lib/python3.11/dist-packages (from matplotlib) (1.4.5)\n",
      "Requirement already satisfied: packaging>=20.0 in /usr/local/lib/python3.11/dist-packages (from matplotlib) (23.1)\n",
      "Requirement already satisfied: pillow>=6.2.0 in /usr/local/lib/python3.11/dist-packages (from matplotlib) (10.0.1)\n",
      "Requirement already satisfied: pyparsing>=2.3.1 in /usr/lib/python3/dist-packages (from matplotlib) (2.4.7)\n",
      "Requirement already satisfied: scipy>=1.5.0 in /usr/local/lib/python3.11/dist-packages (from scikit-learn) (1.11.3)\n",
      "Requirement already satisfied: joblib>=1.1.1 in /usr/local/lib/python3.11/dist-packages (from scikit-learn) (1.3.2)\n",
      "Requirement already satisfied: threadpoolctl>=2.0.0 in /usr/local/lib/python3.11/dist-packages (from scikit-learn) (3.2.0)\n",
      "Requirement already satisfied: six>=1.5 in /usr/lib/python3/dist-packages (from python-dateutil>=2.8.2->pandas) (1.16.0)\n",
      "\u001b[33mWARNING: Running pip as the 'root' user can result in broken permissions and conflicting behaviour with the system package manager. It is recommended to use a virtual environment instead: https://pip.pypa.io/warnings/venv\u001b[0m\u001b[33m\n",
      "\u001b[0m\n",
      "\u001b[1m[\u001b[0m\u001b[34;49mnotice\u001b[0m\u001b[1;39;49m]\u001b[0m\u001b[39;49m A new release of pip is available: \u001b[0m\u001b[31;49m23.2.1\u001b[0m\u001b[39;49m -> \u001b[0m\u001b[32;49m23.3.1\u001b[0m\n",
      "\u001b[1m[\u001b[0m\u001b[34;49mnotice\u001b[0m\u001b[1;39;49m]\u001b[0m\u001b[39;49m To update, run: \u001b[0m\u001b[32;49mpython3 -m pip install --upgrade pip\u001b[0m\n"
     ]
    }
   ],
   "source": [
    "! pip install numpy pandas matplotlib scikit-learn"
   ]
  },
  {
   "cell_type": "code",
   "execution_count": 2,
   "id": "01fdb894-c433-4b64-8edb-5a7f7280c9d2",
   "metadata": {},
   "outputs": [
    {
     "name": "stderr",
     "output_type": "stream",
     "text": [
      "2023-10-22 00:49:07.405551: I tensorflow/core/util/port.cc:111] oneDNN custom operations are on. You may see slightly different numerical results due to floating-point round-off errors from different computation orders. To turn them off, set the environment variable `TF_ENABLE_ONEDNN_OPTS=0`.\n",
      "2023-10-22 00:49:07.433606: E tensorflow/compiler/xla/stream_executor/cuda/cuda_dnn.cc:9342] Unable to register cuDNN factory: Attempting to register factory for plugin cuDNN when one has already been registered\n",
      "2023-10-22 00:49:07.433631: E tensorflow/compiler/xla/stream_executor/cuda/cuda_fft.cc:609] Unable to register cuFFT factory: Attempting to register factory for plugin cuFFT when one has already been registered\n",
      "2023-10-22 00:49:07.433660: E tensorflow/compiler/xla/stream_executor/cuda/cuda_blas.cc:1518] Unable to register cuBLAS factory: Attempting to register factory for plugin cuBLAS when one has already been registered\n",
      "2023-10-22 00:49:07.440745: I tensorflow/core/platform/cpu_feature_guard.cc:182] This TensorFlow binary is optimized to use available CPU instructions in performance-critical operations.\n",
      "To enable the following instructions: AVX2 AVX512F AVX512_VNNI FMA, in other operations, rebuild TensorFlow with the appropriate compiler flags.\n"
     ]
    }
   ],
   "source": [
    "import numpy as np\n",
    "import pandas as pd\n",
    "import matplotlib.pyplot as plt\n",
    "%matplotlib inline\n",
    "\n",
    "from sklearn.model_selection import train_test_split\n",
    "from tensorflow.keras.utils import to_categorical\n",
    "\n",
    "import tensorflow as tf\n",
    "\n",
    "from tensorflow.keras.models import Sequential\n",
    "from tensorflow.keras.layers import Dense, Dropout, Conv2D, Flatten, MaxPool2D\n",
    "from tensorflow.keras.callbacks import EarlyStopping"
   ]
  },
  {
   "cell_type": "code",
   "execution_count": 3,
   "id": "1c79f1e2-292e-4ed5-871f-4cc68b557d09",
   "metadata": {},
   "outputs": [],
   "source": [
    "train_df = pd.read_csv('archive/fashion-mnist_train.csv')\n",
    "test_df = pd.read_csv('archive/fashion-mnist_test.csv')"
   ]
  },
  {
   "cell_type": "code",
   "execution_count": 4,
   "id": "23088fe3-754a-4284-8747-42504b61ad20",
   "metadata": {
    "scrolled": true
   },
   "outputs": [
    {
     "data": {
      "text/plain": [
       "<matplotlib.image.AxesImage at 0x7f35b32deed0>"
      ]
     },
     "execution_count": 4,
     "metadata": {},
     "output_type": "execute_result"
    },
    {
     "data": {
      "image/png": "[encoded data removed]",
      "text/plain": [
       "<Figure size 640x480 with 1 Axes>"
      ]
     },
     "metadata": {},
     "output_type": "display_data"
    }
   ],
   "source": [
    "plt.imshow(train_df.iloc[0].values[1:].reshape(28,28),cmap='gray')"
   ]
  },
  {
   "cell_type": "code",
   "execution_count": 5,
   "id": "478dbe07-e035-4df9-baae-d8a70fde36ae",
   "metadata": {},
   "outputs": [],
   "source": [
    "X_train = train_df.drop('label', axis=1)\n",
    "X_test = test_df.drop('label', axis=1)\n",
    "y_train = train_df['label']\n",
    "y_test = test_df['label']"
   ]
  },
  {
   "cell_type": "code",
   "execution_count": 6,
   "id": "59d474b3-5a9e-431f-9f11-1b4260f60162",
   "metadata": {},
   "outputs": [],
   "source": [
    "image_height = 28\n",
    "image_width = 28"
   ]
  },
  {
   "cell_type": "code",
   "execution_count": 7,
   "id": "3a150b77-5b48-489e-90f2-04605b6b9a0e",
   "metadata": {},
   "outputs": [],
   "source": [
    "X_train_images = []\n",
    "for i in range(len(X_train)):\n",
    "    image_data = X_train.iloc[i].values  \n",
    "    image = image_data.reshape(image_height, image_width, 1).astype(np.float32)\n",
    "    X_train_images.append(image)\n",
    "X_train_images = np.array(X_train_images)"
   ]
  },
  {
   "cell_type": "code",
   "execution_count": 8,
   "id": "ace22a46-dc7a-464f-993c-ae9b8df8765b",
   "metadata": {},
   "outputs": [],
   "source": [
    "X_test, X_val, y_test, y_val = train_test_split(X_test, y_test, test_size=0.4, random_state=42)"
   ]
  },
  {
   "cell_type": "code",
   "execution_count": 9,
   "id": "b82fc2a0-93c9-4a6e-b0d8-376a0d800c38",
   "metadata": {},
   "outputs": [],
   "source": [
    "X_test_images = []\n",
    "for i in range(len(X_test)):\n",
    "    image_data = X_test.iloc[i].values  \n",
    "    image = image_data.reshape(image_height, image_width, 1).astype(np.float32)\n",
    "    X_test_images.append(image)\n",
    "X_test_images = np.array(X_test_images)"
   ]
  },
  {
   "cell_type": "code",
   "execution_count": 10,
   "id": "537946bd-d18e-4e75-b56d-c439dcfc9539",
   "metadata": {},
   "outputs": [],
   "source": [
    "X_val_images = []\n",
    "for i in range(len(X_val)):\n",
    "    image_data = X_val.iloc[i].values  \n",
    "    image = image_data.reshape(image_height, image_width, 1).astype(np.float32)\n",
    "    X_val_images.append(image)\n",
    "X_val_images = np.array(X_val_images)"
   ]
  },
  {
   "cell_type": "code",
   "execution_count": 11,
   "id": "95afdcd5-c67f-4c8d-affd-f6a5c228fcaa",
   "metadata": {},
   "outputs": [],
   "source": [
    "y_train = to_categorical(y_train, num_classes=10)\n",
    "y_test = to_categorical(y_test, num_classes=10)\n",
    "y_val = to_categorical(y_val, num_classes=10)"
   ]
  },
  {
   "cell_type": "code",
   "execution_count": 12,
   "id": "b8a093fe-8ad3-4d43-990a-60d13bf4f877",
   "metadata": {},
   "outputs": [
    {
     "name": "stderr",
     "output_type": "stream",
     "text": [
      "2023-10-22 00:49:11.498287: I tensorflow/compiler/xla/stream_executor/cuda/cuda_gpu_executor.cc:894] successful NUMA node read from SysFS had negative value (-1), but there must be at least one NUMA node, so returning NUMA node zero. See more at https://github.com/torvalds/linux/blob/v6.0/Documentation/ABI/testing/sysfs-bus-pci#L344-L355\n",
      "2023-10-22 00:49:11.501639: I tensorflow/compiler/xla/stream_executor/cuda/cuda_gpu_executor.cc:894] successful NUMA node read from SysFS had negative value (-1), but there must be at least one NUMA node, so returning NUMA node zero. See more at https://github.com/torvalds/linux/blob/v6.0/Documentation/ABI/testing/sysfs-bus-pci#L344-L355\n",
      "2023-10-22 00:49:11.501767: I tensorflow/compiler/xla/stream_executor/cuda/cuda_gpu_executor.cc:894] successful NUMA node read from SysFS had negative value (-1), but there must be at least one NUMA node, so returning NUMA node zero. See more at https://github.com/torvalds/linux/blob/v6.0/Documentation/ABI/testing/sysfs-bus-pci#L344-L355\n",
      "2023-10-22 00:49:11.502786: I tensorflow/compiler/xla/stream_executor/cuda/cuda_gpu_executor.cc:894] successful NUMA node read from SysFS had negative value (-1), but there must be at least one NUMA node, so returning NUMA node zero. See more at https://github.com/torvalds/linux/blob/v6.0/Documentation/ABI/testing/sysfs-bus-pci#L344-L355\n",
      "2023-10-22 00:49:11.502886: I tensorflow/compiler/xla/stream_executor/cuda/cuda_gpu_executor.cc:894] successful NUMA node read from SysFS had negative value (-1), but there must be at least one NUMA node, so returning NUMA node zero. See more at https://github.com/torvalds/linux/blob/v6.0/Documentation/ABI/testing/sysfs-bus-pci#L344-L355\n",
      "2023-10-22 00:49:11.502973: I tensorflow/compiler/xla/stream_executor/cuda/cuda_gpu_executor.cc:894] successful NUMA node read from SysFS had negative value (-1), but there must be at least one NUMA node, so returning NUMA node zero. See more at https://github.com/torvalds/linux/blob/v6.0/Documentation/ABI/testing/sysfs-bus-pci#L344-L355\n",
      "2023-10-22 00:49:11.559964: I tensorflow/compiler/xla/stream_executor/cuda/cuda_gpu_executor.cc:894] successful NUMA node read from SysFS had negative value (-1), but there must be at least one NUMA node, so returning NUMA node zero. See more at https://github.com/torvalds/linux/blob/v6.0/Documentation/ABI/testing/sysfs-bus-pci#L344-L355\n",
      "2023-10-22 00:49:11.560097: I tensorflow/compiler/xla/stream_executor/cuda/cuda_gpu_executor.cc:894] successful NUMA node read from SysFS had negative value (-1), but there must be at least one NUMA node, so returning NUMA node zero. See more at https://github.com/torvalds/linux/blob/v6.0/Documentation/ABI/testing/sysfs-bus-pci#L344-L355\n",
      "2023-10-22 00:49:11.560270: I tensorflow/compiler/xla/stream_executor/cuda/cuda_gpu_executor.cc:894] successful NUMA node read from SysFS had negative value (-1), but there must be at least one NUMA node, so returning NUMA node zero. See more at https://github.com/torvalds/linux/blob/v6.0/Documentation/ABI/testing/sysfs-bus-pci#L344-L355\n",
      "2023-10-22 00:49:11.560331: I tensorflow/core/common_runtime/gpu/gpu_device.cc:1886] Created device /job:localhost/replica:0/task:0/device:GPU:0 with 9867 MB memory:  -> device: 0, name: NVIDIA GeForce RTX 3060, pci bus id: 0000:01:00.0, compute capability: 8.6\n"
     ]
    }
   ],
   "source": [
    "model = Sequential()\n",
    "\n",
    "model.add(Conv2D(32, 4, (4,4), activation='relu', input_shape=(image_height, image_width, 1)))\n",
    "model.add(MaxPool2D(pool_size=(4,4)))\n",
    "\n",
    "model.add(Conv2D(16, 2, (1,1), activation='relu', padding='same'))\n",
    "model.add(Flatten())\n",
    "\n",
    "model.add(Dense(128, activation='relu'))\n",
    "model.add(Dropout(0.3))\n",
    "model.add(Dense(64, activation='relu'))\n",
    "\n",
    "model.add(Dense(10, activation='softmax'))\n",
    "\n",
    "model.compile(optimizer='adam', loss='categorical_crossentropy', metrics=['accuracy'])"
   ]
  },
  {
   "cell_type": "code",
   "execution_count": 13,
   "id": "387739f0-2538-4c40-ad6e-34e256726290",
   "metadata": {},
   "outputs": [],
   "source": [
    "early_stop = EarlyStopping(monitor='val_accuracy', patience=1)"
   ]
  },
  {
   "cell_type": "code",
   "execution_count": 14,
   "id": "9dccd209-fb35-47cb-a476-7fde531959e0",
   "metadata": {},
   "outputs": [
    {
     "name": "stdout",
     "output_type": "stream",
     "text": [
      "Epoch 1/25\n"
     ]
    },
    {
     "name": "stderr",
     "output_type": "stream",
     "text": [
      "2023-10-22 00:49:12.534174: I tensorflow/compiler/xla/stream_executor/cuda/cuda_dnn.cc:442] Loaded cuDNN version 8600\n",
      "2023-10-22 00:49:13.160307: I tensorflow/compiler/xla/service/service.cc:168] XLA service 0x7f31abc099d0 initialized for platform CUDA (this does not guarantee that XLA will be used). Devices:\n",
      "2023-10-22 00:49:13.160324: I tensorflow/compiler/xla/service/service.cc:176]   StreamExecutor device (0): NVIDIA GeForce RTX 3060, Compute Capability 8.6\n",
      "2023-10-22 00:49:13.163654: I tensorflow/compiler/mlir/tensorflow/utils/dump_mlir_util.cc:269] disabling MLIR crash reproducer, set env var `MLIR_CRASH_REPRODUCER_DIRECTORY` to enable.\n",
      "2023-10-22 00:49:13.226832: I ./tensorflow/compiler/jit/device_compiler.h:186] Compiled cluster using XLA!  This line is logged at most once for the lifetime of the process.\n"
     ]
    },
    {
     "name": "stdout",
     "output_type": "stream",
     "text": [
      "60/60 [==============================] - 2s 6ms/step - loss: 3.2690 - accuracy: 0.1664 - val_loss: 1.9604 - val_accuracy: 0.3270\n",
      "Epoch 2/25\n",
      "60/60 [==============================] - 0s 4ms/step - loss: 1.7756 - accuracy: 0.3649 - val_loss: 1.4804 - val_accuracy: 0.4635\n",
      "Epoch 3/25\n",
      "60/60 [==============================] - 0s 4ms/step - loss: 1.4802 - accuracy: 0.4644 - val_loss: 1.2954 - val_accuracy: 0.5340\n",
      "Epoch 4/25\n",
      "60/60 [==============================] - 0s 4ms/step - loss: 1.3377 - accuracy: 0.5200 - val_loss: 1.2013 - val_accuracy: 0.5688\n",
      "Epoch 5/25\n",
      "60/60 [==============================] - 0s 4ms/step - loss: 1.2493 - accuracy: 0.5562 - val_loss: 1.1416 - val_accuracy: 0.5970\n",
      "Epoch 6/25\n",
      "60/60 [==============================] - 0s 4ms/step - loss: 1.1856 - accuracy: 0.5814 - val_loss: 1.0909 - val_accuracy: 0.6170\n",
      "Epoch 7/25\n",
      "60/60 [==============================] - 0s 4ms/step - loss: 1.1266 - accuracy: 0.6044 - val_loss: 1.0415 - val_accuracy: 0.6330\n",
      "Epoch 8/25\n",
      "60/60 [==============================] - 0s 4ms/step - loss: 1.0748 - accuracy: 0.6236 - val_loss: 0.9976 - val_accuracy: 0.6467\n",
      "Epoch 9/25\n",
      "60/60 [==============================] - 0s 4ms/step - loss: 1.0361 - accuracy: 0.6357 - val_loss: 0.9765 - val_accuracy: 0.6585\n",
      "Epoch 10/25\n",
      "60/60 [==============================] - 0s 3ms/step - loss: 1.0111 - accuracy: 0.6461 - val_loss: 0.9541 - val_accuracy: 0.6620\n",
      "Epoch 11/25\n",
      "60/60 [==============================] - 0s 4ms/step - loss: 0.9824 - accuracy: 0.6567 - val_loss: 0.9312 - val_accuracy: 0.6735\n",
      "Epoch 12/25\n",
      "60/60 [==============================] - 0s 4ms/step - loss: 0.9635 - accuracy: 0.6618 - val_loss: 0.9157 - val_accuracy: 0.6752\n",
      "Epoch 13/25\n",
      "60/60 [==============================] - 0s 4ms/step - loss: 0.9464 - accuracy: 0.6690 - val_loss: 0.8992 - val_accuracy: 0.6892\n",
      "Epoch 14/25\n",
      "60/60 [==============================] - 0s 3ms/step - loss: 0.9333 - accuracy: 0.6725 - val_loss: 0.8847 - val_accuracy: 0.6883\n"
     ]
    },
    {
     "data": {
      "text/plain": [
       "<keras.src.callbacks.History at 0x7f35b32d7d90>"
      ]
     },
     "execution_count": 14,
     "metadata": {},
     "output_type": "execute_result"
    }
   ],
   "source": [
    "model.fit(X_train_images, y_train, batch_size=1000, epochs=25, callbacks=[early_stop],\n",
    "          validation_data=(X_val_images, y_val), validation_batch_size=250)"
   ]
  },
  {
   "cell_type": "code",
   "execution_count": null,
   "id": "9e705276-aa1c-4ff5-81ea-154ff293e6e3",
   "metadata": {},
   "outputs": [],
   "source": []
  }
 ],
 "metadata": {
  "kernelspec": {
   "display_name": "Python 3 (ipykernel)",
   "language": "python",
   "name": "python3"
  },
  "language_info": {
   "codemirror_mode": {
    "name": "ipython",
    "version": 3
   },
   "file_extension": ".py",
   "mimetype": "text/x-python",
   "name": "python",
   "nbconvert_exporter": "python",
   "pygments_lexer": "ipython3",
   "version": "3.11.0rc1"
  }
 },
 "nbformat": 4,
 "nbformat_minor": 5
}
