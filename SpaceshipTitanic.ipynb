{
 "cells": [
  {
   "cell_type": "markdown",
   "id": "e1767c30-2867-4323-9436-17aded61ca61",
   "metadata": {},
   "source": [
    "### Imports"
   ]
  },
  {
   "cell_type": "code",
   "execution_count": null,
   "id": "dc722bb6-10c0-4dd2-8a85-1f06ca8f4007",
   "metadata": {},
   "outputs": [],
   "source": [
    "import numpy as np\n",
    "import pandas as pd\n",
    "import matplotlib.pyplot as plt\n",
    "import seaborn as sns\n",
    "\n",
    "from sklearn.preprocessing import MinMaxScaler\n",
    "from sklearn.model_selection import GridSearchCV\n",
    "\n",
    "from sklearn.tree import DecisionTreeClassifier\n",
    "from sklearn.neighbors import KNeighborsClassifier\n",
    "\n",
    "from tensorflow.keras.models import Sequential, Model\n",
    "from tensorflow.keras.layers import Dense, Dropout, Input, Concatenate\n",
    "from tensorflow.keras.callbacks import EarlyStopping"
   ]
  },
  {
   "cell_type": "markdown",
   "id": "4db796e6-6606-4a1d-9fdd-235ef9c94f1d",
   "metadata": {},
   "source": [
    "### Loading Data"
   ]
  },
  {
   "cell_type": "code",
   "execution_count": 2,
   "id": "77ba3624-c012-4377-86a8-6aeca58ad50e",
   "metadata": {},
   "outputs": [],
   "source": [
    "train_df = pd.read_csv('train.csv')\n",
    "test_df = pd.read_csv('test.csv')"
   ]
  },
  {
   "cell_type": "code",
   "execution_count": 3,
   "id": "d5ec5d68-54ba-45b0-b792-fcd40151a1a7",
   "metadata": {},
   "outputs": [
    {
     "data": {
      "text/html": [
       "<div>\n",
       "<style scoped>\n",
       "    .dataframe tbody tr th:only-of-type {\n",
       "        vertical-align: middle;\n",
       "    }\n",
       "\n",
       "    .dataframe tbody tr th {\n",
       "        vertical-align: top;\n",
       "    }\n",
       "\n",
       "    .dataframe thead th {\n",
       "        text-align: right;\n",
       "    }\n",
       "</style>\n",
       "<table border=\"1\" class=\"dataframe\">\n",
       "  <thead>\n",
       "    <tr style=\"text-align: right;\">\n",
       "      <th></th>\n",
       "      <th>PassengerId</th>\n",
       "      <th>HomePlanet</th>\n",
       "      <th>CryoSleep</th>\n",
       "      <th>Cabin</th>\n",
       "      <th>Destination</th>\n",
       "      <th>Age</th>\n",
       "      <th>VIP</th>\n",
       "      <th>RoomService</th>\n",
       "      <th>FoodCourt</th>\n",
       "      <th>ShoppingMall</th>\n",
       "      <th>Spa</th>\n",
       "      <th>VRDeck</th>\n",
       "      <th>Name</th>\n",
       "      <th>Transported</th>\n",
       "    </tr>\n",
       "  </thead>\n",
       "  <tbody>\n",
       "    <tr>\n",
       "      <th>0</th>\n",
       "      <td>0001_01</td>\n",
       "      <td>Europa</td>\n",
       "      <td>False</td>\n",
       "      <td>B/0/P</td>\n",
       "      <td>TRAPPIST-1e</td>\n",
       "      <td>39.0</td>\n",
       "      <td>False</td>\n",
       "      <td>0.0</td>\n",
       "      <td>0.0</td>\n",
       "      <td>0.0</td>\n",
       "      <td>0.0</td>\n",
       "      <td>0.0</td>\n",
       "      <td>Maham Ofracculy</td>\n",
       "      <td>False</td>\n",
       "    </tr>\n",
       "    <tr>\n",
       "      <th>1</th>\n",
       "      <td>0002_01</td>\n",
       "      <td>Earth</td>\n",
       "      <td>False</td>\n",
       "      <td>F/0/S</td>\n",
       "      <td>TRAPPIST-1e</td>\n",
       "      <td>24.0</td>\n",
       "      <td>False</td>\n",
       "      <td>109.0</td>\n",
       "      <td>9.0</td>\n",
       "      <td>25.0</td>\n",
       "      <td>549.0</td>\n",
       "      <td>44.0</td>\n",
       "      <td>Juanna Vines</td>\n",
       "      <td>True</td>\n",
       "    </tr>\n",
       "    <tr>\n",
       "      <th>2</th>\n",
       "      <td>0003_01</td>\n",
       "      <td>Europa</td>\n",
       "      <td>False</td>\n",
       "      <td>A/0/S</td>\n",
       "      <td>TRAPPIST-1e</td>\n",
       "      <td>58.0</td>\n",
       "      <td>True</td>\n",
       "      <td>43.0</td>\n",
       "      <td>3576.0</td>\n",
       "      <td>0.0</td>\n",
       "      <td>6715.0</td>\n",
       "      <td>49.0</td>\n",
       "      <td>Altark Susent</td>\n",
       "      <td>False</td>\n",
       "    </tr>\n",
       "    <tr>\n",
       "      <th>3</th>\n",
       "      <td>0003_02</td>\n",
       "      <td>Europa</td>\n",
       "      <td>False</td>\n",
       "      <td>A/0/S</td>\n",
       "      <td>TRAPPIST-1e</td>\n",
       "      <td>33.0</td>\n",
       "      <td>False</td>\n",
       "      <td>0.0</td>\n",
       "      <td>1283.0</td>\n",
       "      <td>371.0</td>\n",
       "      <td>3329.0</td>\n",
       "      <td>193.0</td>\n",
       "      <td>Solam Susent</td>\n",
       "      <td>False</td>\n",
       "    </tr>\n",
       "    <tr>\n",
       "      <th>4</th>\n",
       "      <td>0004_01</td>\n",
       "      <td>Earth</td>\n",
       "      <td>False</td>\n",
       "      <td>F/1/S</td>\n",
       "      <td>TRAPPIST-1e</td>\n",
       "      <td>16.0</td>\n",
       "      <td>False</td>\n",
       "      <td>303.0</td>\n",
       "      <td>70.0</td>\n",
       "      <td>151.0</td>\n",
       "      <td>565.0</td>\n",
       "      <td>2.0</td>\n",
       "      <td>Willy Santantines</td>\n",
       "      <td>True</td>\n",
       "    </tr>\n",
       "  </tbody>\n",
       "</table>\n",
       "</div>"
      ],
      "text/plain": [
       "  PassengerId HomePlanet CryoSleep  Cabin  Destination   Age    VIP  \\\n",
       "0     0001_01     Europa     False  B/0/P  TRAPPIST-1e  39.0  False   \n",
       "1     0002_01      Earth     False  F/0/S  TRAPPIST-1e  24.0  False   \n",
       "2     0003_01     Europa     False  A/0/S  TRAPPIST-1e  58.0   True   \n",
       "3     0003_02     Europa     False  A/0/S  TRAPPIST-1e  33.0  False   \n",
       "4     0004_01      Earth     False  F/1/S  TRAPPIST-1e  16.0  False   \n",
       "\n",
       "   RoomService  FoodCourt  ShoppingMall     Spa  VRDeck               Name  \\\n",
       "0          0.0        0.0           0.0     0.0     0.0    Maham Ofracculy   \n",
       "1        109.0        9.0          25.0   549.0    44.0       Juanna Vines   \n",
       "2         43.0     3576.0           0.0  6715.0    49.0      Altark Susent   \n",
       "3          0.0     1283.0         371.0  3329.0   193.0       Solam Susent   \n",
       "4        303.0       70.0         151.0   565.0     2.0  Willy Santantines   \n",
       "\n",
       "   Transported  \n",
       "0        False  \n",
       "1         True  \n",
       "2        False  \n",
       "3        False  \n",
       "4         True  "
      ]
     },
     "execution_count": 3,
     "metadata": {},
     "output_type": "execute_result"
    }
   ],
   "source": [
    "train_df.head()"
   ]
  },
  {
   "cell_type": "code",
   "execution_count": 4,
   "id": "caacd0f7-99f5-4e13-bc03-aa1fb424ac39",
   "metadata": {},
   "outputs": [],
   "source": [
    "train_df.set_index('PassengerId', inplace=True)\n",
    "test_df.set_index('PassengerId', inplace=True)"
   ]
  },
  {
   "cell_type": "markdown",
   "id": "55c0c3b7-c8cb-4584-a0a5-071fa2f3368e",
   "metadata": {},
   "source": [
    "### Functions to help speed up data processing"
   ]
  },
  {
   "cell_type": "code",
   "execution_count": 5,
   "id": "1ebfc03e-82c3-4b21-b8d9-07e6f2f3708b",
   "metadata": {},
   "outputs": [],
   "source": [
    "def fill_null(col, value, tr_df=train_df, te_df=test_df, ):\n",
    "    \"\"\"Fill in null values for both dataframes\"\"\"\n",
    "    tr_df[col] = tr_df[col].fillna(value)\n",
    "    te_df[col] = te_df[col].fillna(value)\n",
    "    return (tr_df, te_df)"
   ]
  },
  {
   "cell_type": "code",
   "execution_count": 6,
   "id": "7533f582-1d9b-43a8-96e9-bf7119e429dc",
   "metadata": {},
   "outputs": [],
   "source": [
    "train_df.drop('Name', axis=1, inplace=True)\n",
    "test_df.drop('Name', axis=1, inplace=True)"
   ]
  },
  {
   "cell_type": "code",
   "execution_count": 7,
   "id": "d136fb07-0cbf-40ba-af0c-f6232d15ddea",
   "metadata": {},
   "outputs": [
    {
     "data": {
      "text/html": [
       "<div>\n",
       "<style scoped>\n",
       "    .dataframe tbody tr th:only-of-type {\n",
       "        vertical-align: middle;\n",
       "    }\n",
       "\n",
       "    .dataframe tbody tr th {\n",
       "        vertical-align: top;\n",
       "    }\n",
       "\n",
       "    .dataframe thead th {\n",
       "        text-align: right;\n",
       "    }\n",
       "</style>\n",
       "<table border=\"1\" class=\"dataframe\">\n",
       "  <thead>\n",
       "    <tr style=\"text-align: right;\">\n",
       "      <th></th>\n",
       "      <th>HomePlanet</th>\n",
       "      <th>CryoSleep</th>\n",
       "      <th>Cabin</th>\n",
       "      <th>Destination</th>\n",
       "      <th>Age</th>\n",
       "      <th>VIP</th>\n",
       "      <th>RoomService</th>\n",
       "      <th>FoodCourt</th>\n",
       "      <th>ShoppingMall</th>\n",
       "      <th>Spa</th>\n",
       "      <th>VRDeck</th>\n",
       "      <th>Transported</th>\n",
       "    </tr>\n",
       "    <tr>\n",
       "      <th>PassengerId</th>\n",
       "      <th></th>\n",
       "      <th></th>\n",
       "      <th></th>\n",
       "      <th></th>\n",
       "      <th></th>\n",
       "      <th></th>\n",
       "      <th></th>\n",
       "      <th></th>\n",
       "      <th></th>\n",
       "      <th></th>\n",
       "      <th></th>\n",
       "      <th></th>\n",
       "    </tr>\n",
       "  </thead>\n",
       "  <tbody>\n",
       "    <tr>\n",
       "      <th>0001_01</th>\n",
       "      <td>Europa</td>\n",
       "      <td>False</td>\n",
       "      <td>B/0/P</td>\n",
       "      <td>TRAPPIST-1e</td>\n",
       "      <td>39.0</td>\n",
       "      <td>False</td>\n",
       "      <td>0.0</td>\n",
       "      <td>0.0</td>\n",
       "      <td>0.0</td>\n",
       "      <td>0.0</td>\n",
       "      <td>0.0</td>\n",
       "      <td>False</td>\n",
       "    </tr>\n",
       "    <tr>\n",
       "      <th>0002_01</th>\n",
       "      <td>Earth</td>\n",
       "      <td>False</td>\n",
       "      <td>F/0/S</td>\n",
       "      <td>TRAPPIST-1e</td>\n",
       "      <td>24.0</td>\n",
       "      <td>False</td>\n",
       "      <td>109.0</td>\n",
       "      <td>9.0</td>\n",
       "      <td>25.0</td>\n",
       "      <td>549.0</td>\n",
       "      <td>44.0</td>\n",
       "      <td>True</td>\n",
       "    </tr>\n",
       "    <tr>\n",
       "      <th>0003_01</th>\n",
       "      <td>Europa</td>\n",
       "      <td>False</td>\n",
       "      <td>A/0/S</td>\n",
       "      <td>TRAPPIST-1e</td>\n",
       "      <td>58.0</td>\n",
       "      <td>True</td>\n",
       "      <td>43.0</td>\n",
       "      <td>3576.0</td>\n",
       "      <td>0.0</td>\n",
       "      <td>6715.0</td>\n",
       "      <td>49.0</td>\n",
       "      <td>False</td>\n",
       "    </tr>\n",
       "    <tr>\n",
       "      <th>0003_02</th>\n",
       "      <td>Europa</td>\n",
       "      <td>False</td>\n",
       "      <td>A/0/S</td>\n",
       "      <td>TRAPPIST-1e</td>\n",
       "      <td>33.0</td>\n",
       "      <td>False</td>\n",
       "      <td>0.0</td>\n",
       "      <td>1283.0</td>\n",
       "      <td>371.0</td>\n",
       "      <td>3329.0</td>\n",
       "      <td>193.0</td>\n",
       "      <td>False</td>\n",
       "    </tr>\n",
       "    <tr>\n",
       "      <th>0004_01</th>\n",
       "      <td>Earth</td>\n",
       "      <td>False</td>\n",
       "      <td>F/1/S</td>\n",
       "      <td>TRAPPIST-1e</td>\n",
       "      <td>16.0</td>\n",
       "      <td>False</td>\n",
       "      <td>303.0</td>\n",
       "      <td>70.0</td>\n",
       "      <td>151.0</td>\n",
       "      <td>565.0</td>\n",
       "      <td>2.0</td>\n",
       "      <td>True</td>\n",
       "    </tr>\n",
       "  </tbody>\n",
       "</table>\n",
       "</div>"
      ],
      "text/plain": [
       "            HomePlanet CryoSleep  Cabin  Destination   Age    VIP  \\\n",
       "PassengerId                                                         \n",
       "0001_01         Europa     False  B/0/P  TRAPPIST-1e  39.0  False   \n",
       "0002_01          Earth     False  F/0/S  TRAPPIST-1e  24.0  False   \n",
       "0003_01         Europa     False  A/0/S  TRAPPIST-1e  58.0   True   \n",
       "0003_02         Europa     False  A/0/S  TRAPPIST-1e  33.0  False   \n",
       "0004_01          Earth     False  F/1/S  TRAPPIST-1e  16.0  False   \n",
       "\n",
       "             RoomService  FoodCourt  ShoppingMall     Spa  VRDeck  Transported  \n",
       "PassengerId                                                                     \n",
       "0001_01              0.0        0.0           0.0     0.0     0.0        False  \n",
       "0002_01            109.0        9.0          25.0   549.0    44.0         True  \n",
       "0003_01             43.0     3576.0           0.0  6715.0    49.0        False  \n",
       "0003_02              0.0     1283.0         371.0  3329.0   193.0        False  \n",
       "0004_01            303.0       70.0         151.0   565.0     2.0         True  "
      ]
     },
     "execution_count": 7,
     "metadata": {},
     "output_type": "execute_result"
    }
   ],
   "source": [
    "train_df.head()"
   ]
  },
  {
   "cell_type": "markdown",
   "id": "0399a5e0-2f34-4546-aaea-2e7ae579c9de",
   "metadata": {},
   "source": [
    "### Dealing with missing values"
   ]
  },
  {
   "cell_type": "code",
   "execution_count": 8,
   "id": "fd8df983-b8dd-4d39-a948-4477b00681d6",
   "metadata": {},
   "outputs": [
    {
     "name": "stdout",
     "output_type": "stream",
     "text": [
      "HomePlanet      201\n",
      "CryoSleep       217\n",
      "Cabin           199\n",
      "Destination     182\n",
      "Age             179\n",
      "VIP             203\n",
      "RoomService     181\n",
      "FoodCourt       183\n",
      "ShoppingMall    208\n",
      "Spa             183\n",
      "VRDeck          188\n",
      "Transported       0\n",
      "dtype: int64\n"
     ]
    },
    {
     "data": {
      "text/plain": [
       "HomePlanet       87\n",
       "CryoSleep        93\n",
       "Cabin           100\n",
       "Destination      92\n",
       "Age              91\n",
       "VIP              93\n",
       "RoomService      82\n",
       "FoodCourt       106\n",
       "ShoppingMall     98\n",
       "Spa             101\n",
       "VRDeck           80\n",
       "dtype: int64"
      ]
     },
     "execution_count": 8,
     "metadata": {},
     "output_type": "execute_result"
    }
   ],
   "source": [
    "print(train_df.isnull().sum())\n",
    "test_df.isnull().sum()"
   ]
  },
  {
   "cell_type": "code",
   "execution_count": 9,
   "id": "c63d80dc-3e40-4f73-86e8-3fe68d70f4c1",
   "metadata": {},
   "outputs": [],
   "source": [
    "\"\"\"Set to a string value of 'Unknown'\"\"\"\n",
    "train_df, test_df = fill_null('HomePlanet', 'Unknown')"
   ]
  },
  {
   "cell_type": "code",
   "execution_count": 10,
   "id": "d3bb49c6-51bc-4f00-9282-4c0609f62c2f",
   "metadata": {},
   "outputs": [],
   "source": [
    "\"\"\"Assume that it's just false\"\"\"\n",
    "train_df, test_df = fill_null('CryoSleep', False)"
   ]
  },
  {
   "cell_type": "code",
   "execution_count": 11,
   "id": "0278078f-f597-4097-8211-590b07c04ca4",
   "metadata": {},
   "outputs": [
    {
     "data": {
      "text/plain": [
       "array(['B/0/P', 'F/0/S', 'A/0/S', ..., 'G/1499/S', 'G/1500/S', 'E/608/S'],\n",
       "      dtype=object)"
      ]
     },
     "execution_count": 11,
     "metadata": {},
     "output_type": "execute_result"
    }
   ],
   "source": [
    "train_df['Cabin'].unique()"
   ]
  },
  {
   "cell_type": "code",
   "execution_count": 12,
   "id": "e9fd1402-8ea3-4e56-8839-4a1c0fed1102",
   "metadata": {},
   "outputs": [],
   "source": [
    "\"\"\"For this one I will make a cabin id that follows the same form because I want to later try \n",
    "and extract some info from this column\"\"\"\n",
    "unknown_cabin_id = 'N/0/N'\n",
    "train_df, test_df = fill_null('Cabin', unknown_cabin_id)"
   ]
  },
  {
   "cell_type": "code",
   "execution_count": 13,
   "id": "a4c96390-49d5-4b3d-b88b-a5cf1c13fe4d",
   "metadata": {},
   "outputs": [
    {
     "data": {
      "text/plain": [
       "array(['TRAPPIST-1e', 'PSO J318.5-22', '55 Cancri e', nan], dtype=object)"
      ]
     },
     "execution_count": 13,
     "metadata": {},
     "output_type": "execute_result"
    }
   ],
   "source": [
    "train_df['Destination'].unique()"
   ]
  },
  {
   "cell_type": "code",
   "execution_count": 14,
   "id": "babd254a-6732-487d-bea6-180816bf7897",
   "metadata": {},
   "outputs": [],
   "source": [
    "\"\"\"For this one I will also just make this 'Unknown'\"\"\"\n",
    "train_df, test_df = fill_null('Destination', 'Unknown')"
   ]
  },
  {
   "cell_type": "code",
   "execution_count": 15,
   "id": "72e5acca-8120-491d-bc10-5178f1089e35",
   "metadata": {},
   "outputs": [
    {
     "data": {
      "text/plain": [
       "80"
      ]
     },
     "execution_count": 15,
     "metadata": {},
     "output_type": "execute_result"
    }
   ],
   "source": [
    "train_df['Age'].nunique()"
   ]
  },
  {
   "cell_type": "code",
   "execution_count": 16,
   "id": "f7b9823e-8384-4f1f-ac01-ff241fccd4e0",
   "metadata": {},
   "outputs": [],
   "source": [
    "\"\"\"For age I will take the average age of all the passengers and set the null values to this average\"\"\"\n",
    "average_age = pd.concat([train_df['Age'], test_df['Age']]).mean()\n",
    "train_df, test_df = fill_null('Age', average_age)"
   ]
  },
  {
   "cell_type": "code",
   "execution_count": 17,
   "id": "dc6ad60d-3910-4f0c-8014-8a8f87c6b3b3",
   "metadata": {},
   "outputs": [],
   "source": [
    "\"\"\"I will assume if there is no value for VIP then it would just be false\"\"\"\n",
    "train_df, test_df = fill_null('VIP', False)"
   ]
  },
  {
   "cell_type": "code",
   "execution_count": 18,
   "id": "56e2abcf-0931-4657-8c1f-5e020fdf649e",
   "metadata": {},
   "outputs": [],
   "source": [
    "\"\"\"For RoomService, FoodCourt, ShoppingMall, Spa, and VRDeck if there is no value I will just assume \n",
    "that there was no spending and it would be 0\"\"\"\n",
    "lst_of_cols = ['RoomService', 'FoodCourt', 'ShoppingMall', 'Spa', 'VRDeck']\n",
    "for col in lst_of_cols:\n",
    "    train_df,test_df = fill_null(col, 0)\n"
   ]
  },
  {
   "cell_type": "markdown",
   "id": "29885ea0-b3aa-4b8f-83e4-7c1614cb46e6",
   "metadata": {},
   "source": [
    "### Feature Engineering/Data Proccessing"
   ]
  },
  {
   "cell_type": "code",
   "execution_count": 19,
   "id": "90d5d44d-de34-4ed6-8164-bee35a3c26ca",
   "metadata": {},
   "outputs": [],
   "source": [
    "\"\"\"In the Cabin column the form of the id goes deck/num/side. \n",
    "I will make 3 new columns which has each of those values just in seperate columns\"\"\"\n",
    "\n",
    "train_df[['Deck', 'Number', 'Side']] = train_df['Cabin'].str.split('/', expand=True)\n",
    "test_df[['Deck', 'Number', 'Side']] = test_df['Cabin'].str.split('/', expand=True)\n",
    "train_df.drop('Cabin', axis=1, inplace=True)\n",
    "test_df.drop('Cabin', axis=1, inplace=True)"
   ]
  },
  {
   "cell_type": "code",
   "execution_count": 20,
   "id": "be09454b-61e8-4ddd-907b-703e3bdcba48",
   "metadata": {},
   "outputs": [],
   "source": [
    "\"\"\"One hot encoding for 2 of the new columns\"\"\"\n",
    "train_dummies = pd.get_dummies(train_df[['Deck', 'Side']], dtype=int)\n",
    "test_dummies = pd.get_dummies(test_df[['Deck', 'Side']], dtype=int)"
   ]
  },
  {
   "cell_type": "code",
   "execution_count": 21,
   "id": "9a1fe948-9c96-4a86-b504-6665cfeb73f4",
   "metadata": {},
   "outputs": [],
   "source": [
    "train_df = pd.concat([train_df, train_dummies], axis=1)\n",
    "test_df = pd.concat([test_df, test_dummies], axis=1)\n",
    "train_df.drop(['Deck', 'Side'], axis=1, inplace=True)\n",
    "test_df.drop(['Deck', 'Side'], axis=1, inplace=True)"
   ]
  },
  {
   "cell_type": "code",
   "execution_count": 22,
   "id": "28e20a2b-41fa-4bc9-97be-17e4d53a4eba",
   "metadata": {},
   "outputs": [],
   "source": [
    "\"\"\" The last feature I will engineer is a total spend that just combines the spending from the \n",
    "RoomService, FoodCourt, ShoppingMall, Spa, and VRDeck columns\"\"\"\n",
    "train_df['TotalSpend'] = train_df[['RoomService', 'FoodCourt', 'ShoppingMall', 'Spa', 'VRDeck']].sum(axis=1)\n",
    "test_df['TotalSpend'] = test_df[['RoomService', 'FoodCourt', 'ShoppingMall', 'Spa', 'VRDeck']].sum(axis=1)"
   ]
  },
  {
   "cell_type": "code",
   "execution_count": 23,
   "id": "561accfa-0fe4-4071-a927-a9a04d1e63c0",
   "metadata": {},
   "outputs": [],
   "source": [
    "\"\"\"Now I will just do one-hot encoding for the rest of the categorical columns\"\"\"\n",
    "\n",
    "train_dummies = pd.get_dummies(train_df[['HomePlanet', 'Destination']], dtype=int)\n",
    "test_dummies = pd.get_dummies(test_df[['HomePlanet', 'Destination']], dtype=int)"
   ]
  },
  {
   "cell_type": "code",
   "execution_count": 24,
   "id": "b0e3dfac-0dc2-4443-9306-2777ef6ae586",
   "metadata": {},
   "outputs": [],
   "source": [
    "train_df = pd.concat([train_df, train_dummies], axis=1)\n",
    "test_df = pd.concat([test_df, test_dummies], axis=1)"
   ]
  },
  {
   "cell_type": "code",
   "execution_count": 25,
   "id": "e260eaf2-18a2-45c8-ae1b-7b08baf46ddd",
   "metadata": {},
   "outputs": [],
   "source": [
    "train_df.drop(['HomePlanet', 'Destination'], axis=1, inplace=True)\n",
    "test_df.drop(['HomePlanet', 'Destination'], axis=1, inplace=True)"
   ]
  },
  {
   "cell_type": "code",
   "execution_count": 26,
   "id": "a8d6956b-752b-42de-a438-f13d0aa17d4e",
   "metadata": {},
   "outputs": [],
   "source": [
    "lst_of_cols = ['CryoSleep', 'VIP']\n",
    "for col in lst_of_cols:\n",
    "    train_df[col] = train_df[col].apply(lambda x: 1 if x == True else 0)\n",
    "    test_df[col] = test_df[col].apply(lambda x: 1 if x == True else 0)\n",
    "train_df['Transported'] = train_df['Transported'].apply(lambda x: 1 if x == True else 0)"
   ]
  },
  {
   "cell_type": "code",
   "execution_count": 27,
   "id": "75a960d0-a8d6-4fc9-8cb2-27823957c8f0",
   "metadata": {},
   "outputs": [
    {
     "data": {
      "text/html": [
       "<div>\n",
       "<style scoped>\n",
       "    .dataframe tbody tr th:only-of-type {\n",
       "        vertical-align: middle;\n",
       "    }\n",
       "\n",
       "    .dataframe tbody tr th {\n",
       "        vertical-align: top;\n",
       "    }\n",
       "\n",
       "    .dataframe thead th {\n",
       "        text-align: right;\n",
       "    }\n",
       "</style>\n",
       "<table border=\"1\" class=\"dataframe\">\n",
       "  <thead>\n",
       "    <tr style=\"text-align: right;\">\n",
       "      <th></th>\n",
       "      <th>CryoSleep</th>\n",
       "      <th>Age</th>\n",
       "      <th>VIP</th>\n",
       "      <th>RoomService</th>\n",
       "      <th>FoodCourt</th>\n",
       "      <th>ShoppingMall</th>\n",
       "      <th>Spa</th>\n",
       "      <th>VRDeck</th>\n",
       "      <th>Transported</th>\n",
       "      <th>Number</th>\n",
       "      <th>...</th>\n",
       "      <th>Side_S</th>\n",
       "      <th>TotalSpend</th>\n",
       "      <th>HomePlanet_Earth</th>\n",
       "      <th>HomePlanet_Europa</th>\n",
       "      <th>HomePlanet_Mars</th>\n",
       "      <th>HomePlanet_Unknown</th>\n",
       "      <th>Destination_55 Cancri e</th>\n",
       "      <th>Destination_PSO J318.5-22</th>\n",
       "      <th>Destination_TRAPPIST-1e</th>\n",
       "      <th>Destination_Unknown</th>\n",
       "    </tr>\n",
       "    <tr>\n",
       "      <th>PassengerId</th>\n",
       "      <th></th>\n",
       "      <th></th>\n",
       "      <th></th>\n",
       "      <th></th>\n",
       "      <th></th>\n",
       "      <th></th>\n",
       "      <th></th>\n",
       "      <th></th>\n",
       "      <th></th>\n",
       "      <th></th>\n",
       "      <th></th>\n",
       "      <th></th>\n",
       "      <th></th>\n",
       "      <th></th>\n",
       "      <th></th>\n",
       "      <th></th>\n",
       "      <th></th>\n",
       "      <th></th>\n",
       "      <th></th>\n",
       "      <th></th>\n",
       "      <th></th>\n",
       "    </tr>\n",
       "  </thead>\n",
       "  <tbody>\n",
       "    <tr>\n",
       "      <th>0001_01</th>\n",
       "      <td>0</td>\n",
       "      <td>39.0</td>\n",
       "      <td>0</td>\n",
       "      <td>0.0</td>\n",
       "      <td>0.0</td>\n",
       "      <td>0.0</td>\n",
       "      <td>0.0</td>\n",
       "      <td>0.0</td>\n",
       "      <td>0</td>\n",
       "      <td>0</td>\n",
       "      <td>...</td>\n",
       "      <td>0</td>\n",
       "      <td>0.0</td>\n",
       "      <td>0</td>\n",
       "      <td>1</td>\n",
       "      <td>0</td>\n",
       "      <td>0</td>\n",
       "      <td>0</td>\n",
       "      <td>0</td>\n",
       "      <td>1</td>\n",
       "      <td>0</td>\n",
       "    </tr>\n",
       "    <tr>\n",
       "      <th>0002_01</th>\n",
       "      <td>0</td>\n",
       "      <td>24.0</td>\n",
       "      <td>0</td>\n",
       "      <td>109.0</td>\n",
       "      <td>9.0</td>\n",
       "      <td>25.0</td>\n",
       "      <td>549.0</td>\n",
       "      <td>44.0</td>\n",
       "      <td>1</td>\n",
       "      <td>0</td>\n",
       "      <td>...</td>\n",
       "      <td>1</td>\n",
       "      <td>736.0</td>\n",
       "      <td>1</td>\n",
       "      <td>0</td>\n",
       "      <td>0</td>\n",
       "      <td>0</td>\n",
       "      <td>0</td>\n",
       "      <td>0</td>\n",
       "      <td>1</td>\n",
       "      <td>0</td>\n",
       "    </tr>\n",
       "    <tr>\n",
       "      <th>0003_01</th>\n",
       "      <td>0</td>\n",
       "      <td>58.0</td>\n",
       "      <td>1</td>\n",
       "      <td>43.0</td>\n",
       "      <td>3576.0</td>\n",
       "      <td>0.0</td>\n",
       "      <td>6715.0</td>\n",
       "      <td>49.0</td>\n",
       "      <td>0</td>\n",
       "      <td>0</td>\n",
       "      <td>...</td>\n",
       "      <td>1</td>\n",
       "      <td>10383.0</td>\n",
       "      <td>0</td>\n",
       "      <td>1</td>\n",
       "      <td>0</td>\n",
       "      <td>0</td>\n",
       "      <td>0</td>\n",
       "      <td>0</td>\n",
       "      <td>1</td>\n",
       "      <td>0</td>\n",
       "    </tr>\n",
       "    <tr>\n",
       "      <th>0003_02</th>\n",
       "      <td>0</td>\n",
       "      <td>33.0</td>\n",
       "      <td>0</td>\n",
       "      <td>0.0</td>\n",
       "      <td>1283.0</td>\n",
       "      <td>371.0</td>\n",
       "      <td>3329.0</td>\n",
       "      <td>193.0</td>\n",
       "      <td>0</td>\n",
       "      <td>0</td>\n",
       "      <td>...</td>\n",
       "      <td>1</td>\n",
       "      <td>5176.0</td>\n",
       "      <td>0</td>\n",
       "      <td>1</td>\n",
       "      <td>0</td>\n",
       "      <td>0</td>\n",
       "      <td>0</td>\n",
       "      <td>0</td>\n",
       "      <td>1</td>\n",
       "      <td>0</td>\n",
       "    </tr>\n",
       "    <tr>\n",
       "      <th>0004_01</th>\n",
       "      <td>0</td>\n",
       "      <td>16.0</td>\n",
       "      <td>0</td>\n",
       "      <td>303.0</td>\n",
       "      <td>70.0</td>\n",
       "      <td>151.0</td>\n",
       "      <td>565.0</td>\n",
       "      <td>2.0</td>\n",
       "      <td>1</td>\n",
       "      <td>1</td>\n",
       "      <td>...</td>\n",
       "      <td>1</td>\n",
       "      <td>1091.0</td>\n",
       "      <td>1</td>\n",
       "      <td>0</td>\n",
       "      <td>0</td>\n",
       "      <td>0</td>\n",
       "      <td>0</td>\n",
       "      <td>0</td>\n",
       "      <td>1</td>\n",
       "      <td>0</td>\n",
       "    </tr>\n",
       "  </tbody>\n",
       "</table>\n",
       "<p>5 rows × 31 columns</p>\n",
       "</div>"
      ],
      "text/plain": [
       "             CryoSleep   Age  VIP  RoomService  FoodCourt  ShoppingMall  \\\n",
       "PassengerId                                                               \n",
       "0001_01              0  39.0    0          0.0        0.0           0.0   \n",
       "0002_01              0  24.0    0        109.0        9.0          25.0   \n",
       "0003_01              0  58.0    1         43.0     3576.0           0.0   \n",
       "0003_02              0  33.0    0          0.0     1283.0         371.0   \n",
       "0004_01              0  16.0    0        303.0       70.0         151.0   \n",
       "\n",
       "                Spa  VRDeck  Transported Number  ...  Side_S  TotalSpend  \\\n",
       "PassengerId                                      ...                       \n",
       "0001_01         0.0     0.0            0      0  ...       0         0.0   \n",
       "0002_01       549.0    44.0            1      0  ...       1       736.0   \n",
       "0003_01      6715.0    49.0            0      0  ...       1     10383.0   \n",
       "0003_02      3329.0   193.0            0      0  ...       1      5176.0   \n",
       "0004_01       565.0     2.0            1      1  ...       1      1091.0   \n",
       "\n",
       "             HomePlanet_Earth  HomePlanet_Europa  HomePlanet_Mars  \\\n",
       "PassengerId                                                         \n",
       "0001_01                     0                  1                0   \n",
       "0002_01                     1                  0                0   \n",
       "0003_01                     0                  1                0   \n",
       "0003_02                     0                  1                0   \n",
       "0004_01                     1                  0                0   \n",
       "\n",
       "             HomePlanet_Unknown  Destination_55 Cancri e  \\\n",
       "PassengerId                                                \n",
       "0001_01                       0                        0   \n",
       "0002_01                       0                        0   \n",
       "0003_01                       0                        0   \n",
       "0003_02                       0                        0   \n",
       "0004_01                       0                        0   \n",
       "\n",
       "             Destination_PSO J318.5-22  Destination_TRAPPIST-1e  \\\n",
       "PassengerId                                                       \n",
       "0001_01                              0                        1   \n",
       "0002_01                              0                        1   \n",
       "0003_01                              0                        1   \n",
       "0003_02                              0                        1   \n",
       "0004_01                              0                        1   \n",
       "\n",
       "             Destination_Unknown  \n",
       "PassengerId                       \n",
       "0001_01                        0  \n",
       "0002_01                        0  \n",
       "0003_01                        0  \n",
       "0003_02                        0  \n",
       "0004_01                        0  \n",
       "\n",
       "[5 rows x 31 columns]"
      ]
     },
     "execution_count": 27,
     "metadata": {},
     "output_type": "execute_result"
    }
   ],
   "source": [
    "train_df.head()"
   ]
  },
  {
   "cell_type": "markdown",
   "id": "f25e539f-4d51-44ec-82ee-e02cd6abda52",
   "metadata": {},
   "source": [
    "### Data Exploration"
   ]
  },
  {
   "cell_type": "code",
   "execution_count": 28,
   "id": "88d49136-e8cc-47a3-8d05-3f321ac3ecfc",
   "metadata": {},
   "outputs": [
    {
     "data": {
      "text/plain": [
       "CryoSleep                     True\n",
       "Age                          False\n",
       "VIP                          False\n",
       "RoomService                   True\n",
       "FoodCourt                    False\n",
       "ShoppingMall                 False\n",
       "Spa                           True\n",
       "VRDeck                        True\n",
       "Transported                   True\n",
       "Number                       False\n",
       "Deck_A                       False\n",
       "Deck_B                        True\n",
       "Deck_C                        True\n",
       "Deck_D                       False\n",
       "Deck_E                       False\n",
       "Deck_F                       False\n",
       "Deck_G                       False\n",
       "Deck_N                       False\n",
       "Deck_T                       False\n",
       "Side_N                       False\n",
       "Side_P                        True\n",
       "Side_S                        True\n",
       "TotalSpend                    True\n",
       "HomePlanet_Earth              True\n",
       "HomePlanet_Europa             True\n",
       "HomePlanet_Mars              False\n",
       "HomePlanet_Unknown           False\n",
       "Destination_55 Cancri e       True\n",
       "Destination_PSO J318.5-22    False\n",
       "Destination_TRAPPIST-1e      False\n",
       "Destination_Unknown          False\n",
       "Name: Transported, dtype: bool"
      ]
     },
     "execution_count": 28,
     "metadata": {},
     "output_type": "execute_result"
    }
   ],
   "source": [
    "np.abs(train_df.corr()['Transported']) > 0.10"
   ]
  },
  {
   "cell_type": "code",
   "execution_count": 29,
   "id": "9cffeb96-12d1-416c-9779-442bb0df4649",
   "metadata": {},
   "outputs": [
    {
     "data": {
      "text/plain": [
       "<Axes: >"
      ]
     },
     "execution_count": 29,
     "metadata": {},
     "output_type": "execute_result"
    },
    {
     "data": {
      "image/png": "[encoded data removed]",
      "text/plain": [
       "<Figure size 2400x1500 with 2 Axes>"
      ]
     },
     "metadata": {},
     "output_type": "display_data"
    }
   ],
   "source": [
    "plt.figure(figsize=(24,15))\n",
    "sns.heatmap(train_df.corr(), annot=True)"
   ]
  },
  {
   "cell_type": "markdown",
   "id": "943b3b18-5a2e-402c-b0c7-c3a2470efeb9",
   "metadata": {},
   "source": [
    "### Scaling and Spliting Data"
   ]
  },
  {
   "cell_type": "code",
   "execution_count": 30,
   "id": "8da651bb-36f7-4b9d-9b98-d6f904b430dc",
   "metadata": {},
   "outputs": [],
   "source": [
    "X_train = train_df.drop('Transported', axis=1)\n",
    "X_test = test_df\n",
    "y_train = train_df['Transported']\n"
   ]
  },
  {
   "cell_type": "code",
   "execution_count": 31,
   "id": "68269f02-906f-4bde-80c7-706a1f55a52a",
   "metadata": {},
   "outputs": [],
   "source": [
    "scaler = MinMaxScaler()"
   ]
  },
  {
   "cell_type": "code",
   "execution_count": 32,
   "id": "7173c950-afe6-4626-8ee4-75f74380f908",
   "metadata": {},
   "outputs": [],
   "source": [
    "X_train_scaled = scaler.fit_transform(X_train)\n",
    "X_test_scaled = scaler.transform(X_test)"
   ]
  },
  {
   "cell_type": "markdown",
   "id": "715cc1d1-136b-4750-b995-f5c27c6b4cc6",
   "metadata": {},
   "source": [
    "### Decision Tree Classifier"
   ]
  },
  {
   "cell_type": "code",
   "execution_count": 33,
   "id": "7ed6a73a-f8e4-491e-b4c4-da23e31e950b",
   "metadata": {},
   "outputs": [],
   "source": [
    "param_grid = {  \n",
    "    'max_depth': [16, 17, 18],   \n",
    "    'min_samples_split': [20, 21, 22]  \n",
    "}"
   ]
  },
  {
   "cell_type": "code",
   "execution_count": 34,
   "id": "5754c913-18bc-4601-9c77-87fe7e1e66ff",
   "metadata": {},
   "outputs": [],
   "source": [
    "dtc = DecisionTreeClassifier(max_features=None, criterion='entropy', min_samples_leaf=3,\n",
    "                            splitter='random', min_samples_split=22, max_depth=17)"
   ]
  },
  {
   "cell_type": "code",
   "execution_count": 35,
   "id": "6e3194f5-7095-47d1-8cdc-4d6a68620db9",
   "metadata": {},
   "outputs": [
    {
     "data": {
      "text/plain": [
       "'Keep changing param grid based on results until I find the best params'"
      ]
     },
     "execution_count": 35,
     "metadata": {},
     "output_type": "execute_result"
    }
   ],
   "source": [
    "grid_search = GridSearchCV(dtc, param_grid, cv=5)\n",
    "\"\"\"Keep changing param grid based on results until I find the best params\"\"\""
   ]
  },
  {
   "cell_type": "code",
   "execution_count": 36,
   "id": "32a44420-0126-4d2e-9273-5d169e987c48",
   "metadata": {
    "scrolled": true
   },
   "outputs": [
    {
     "data": {
      "text/html": [
       "<style>#sk-container-id-1 {color: black;}#sk-container-id-1 pre{padding: 0;}#sk-container-id-1 div.sk-toggleable {background-color: white;}#sk-container-id-1 label.sk-toggleable__label {cursor: pointer;display: block;width: 100%;margin-bottom: 0;padding: 0.3em;box-sizing: border-box;text-align: center;}#sk-container-id-1 label.sk-toggleable__label-arrow:before {content: \"▸\";float: left;margin-right: 0.25em;color: #696969;}#sk-container-id-1 label.sk-toggleable__label-arrow:hover:before {color: black;}#sk-container-id-1 div.sk-estimator:hover label.sk-toggleable__label-arrow:before {color: black;}#sk-container-id-1 div.sk-toggleable__content {max-height: 0;max-width: 0;overflow: hidden;text-align: left;background-color: #f0f8ff;}#sk-container-id-1 div.sk-toggleable__content pre {margin: 0.2em;color: black;border-radius: 0.25em;background-color: #f0f8ff;}#sk-container-id-1 input.sk-toggleable__control:checked~div.sk-toggleable__content {max-height: 200px;max-width: 100%;overflow: auto;}#sk-container-id-1 input.sk-toggleable__control:checked~label.sk-toggleable__label-arrow:before {content: \"▾\";}#sk-container-id-1 div.sk-estimator input.sk-toggleable__control:checked~label.sk-toggleable__label {background-color: #d4ebff;}#sk-container-id-1 div.sk-label input.sk-toggleable__control:checked~label.sk-toggleable__label {background-color: #d4ebff;}#sk-container-id-1 input.sk-hidden--visually {border: 0;clip: rect(1px 1px 1px 1px);clip: rect(1px, 1px, 1px, 1px);height: 1px;margin: -1px;overflow: hidden;padding: 0;position: absolute;width: 1px;}#sk-container-id-1 div.sk-estimator {font-family: monospace;background-color: #f0f8ff;border: 1px dotted black;border-radius: 0.25em;box-sizing: border-box;margin-bottom: 0.5em;}#sk-container-id-1 div.sk-estimator:hover {background-color: #d4ebff;}#sk-container-id-1 div.sk-parallel-item::after {content: \"\";width: 100%;border-bottom: 1px solid gray;flex-grow: 1;}#sk-container-id-1 div.sk-label:hover label.sk-toggleable__label {background-color: #d4ebff;}#sk-container-id-1 div.sk-serial::before {content: \"\";position: absolute;border-left: 1px solid gray;box-sizing: border-box;top: 0;bottom: 0;left: 50%;z-index: 0;}#sk-container-id-1 div.sk-serial {display: flex;flex-direction: column;align-items: center;background-color: white;padding-right: 0.2em;padding-left: 0.2em;position: relative;}#sk-container-id-1 div.sk-item {position: relative;z-index: 1;}#sk-container-id-1 div.sk-parallel {display: flex;align-items: stretch;justify-content: center;background-color: white;position: relative;}#sk-container-id-1 div.sk-item::before, #sk-container-id-1 div.sk-parallel-item::before {content: \"\";position: absolute;border-left: 1px solid gray;box-sizing: border-box;top: 0;bottom: 0;left: 50%;z-index: -1;}#sk-container-id-1 div.sk-parallel-item {display: flex;flex-direction: column;z-index: 1;position: relative;background-color: white;}#sk-container-id-1 div.sk-parallel-item:first-child::after {align-self: flex-end;width: 50%;}#sk-container-id-1 div.sk-parallel-item:last-child::after {align-self: flex-start;width: 50%;}#sk-container-id-1 div.sk-parallel-item:only-child::after {width: 0;}#sk-container-id-1 div.sk-dashed-wrapped {border: 1px dashed gray;margin: 0 0.4em 0.5em 0.4em;box-sizing: border-box;padding-bottom: 0.4em;background-color: white;}#sk-container-id-1 div.sk-label label {font-family: monospace;font-weight: bold;display: inline-block;line-height: 1.2em;}#sk-container-id-1 div.sk-label-container {text-align: center;}#sk-container-id-1 div.sk-container {/* jupyter's `normalize.less` sets `[hidden] { display: none; }` but bootstrap.min.css set `[hidden] { display: none !important; }` so we also need the `!important` here to be able to override the default hidden behavior on the sphinx rendered scikit-learn.org. See: https://github.com/scikit-learn/scikit-learn/issues/21755 */display: inline-block !important;position: relative;}#sk-container-id-1 div.sk-text-repr-fallback {display: none;}</style><div id=\"sk-container-id-1\" class=\"sk-top-container\"><div class=\"sk-text-repr-fallback\"><pre>GridSearchCV(cv=5,\n",
       "             estimator=DecisionTreeClassifier(criterion=&#x27;entropy&#x27;, max_depth=17,\n",
       "                                              min_samples_leaf=3,\n",
       "                                              min_samples_split=22,\n",
       "                                              splitter=&#x27;random&#x27;),\n",
       "             param_grid={&#x27;max_depth&#x27;: [16, 17, 18],\n",
       "                         &#x27;min_samples_split&#x27;: [20, 21, 22]})</pre><b>In a Jupyter environment, please rerun this cell to show the HTML representation or trust the notebook. <br />On GitHub, the HTML representation is unable to render, please try loading this page with nbviewer.org.</b></div><div class=\"sk-container\" hidden><div class=\"sk-item sk-dashed-wrapped\"><div class=\"sk-label-container\"><div class=\"sk-label sk-toggleable\"><input class=\"sk-toggleable__control sk-hidden--visually\" id=\"sk-estimator-id-1\" type=\"checkbox\" ><label for=\"sk-estimator-id-1\" class=\"sk-toggleable__label sk-toggleable__label-arrow\">GridSearchCV</label><div class=\"sk-toggleable__content\"><pre>GridSearchCV(cv=5,\n",
       "             estimator=DecisionTreeClassifier(criterion=&#x27;entropy&#x27;, max_depth=17,\n",
       "                                              min_samples_leaf=3,\n",
       "                                              min_samples_split=22,\n",
       "                                              splitter=&#x27;random&#x27;),\n",
       "             param_grid={&#x27;max_depth&#x27;: [16, 17, 18],\n",
       "                         &#x27;min_samples_split&#x27;: [20, 21, 22]})</pre></div></div></div><div class=\"sk-parallel\"><div class=\"sk-parallel-item\"><div class=\"sk-item\"><div class=\"sk-label-container\"><div class=\"sk-label sk-toggleable\"><input class=\"sk-toggleable__control sk-hidden--visually\" id=\"sk-estimator-id-2\" type=\"checkbox\" ><label for=\"sk-estimator-id-2\" class=\"sk-toggleable__label sk-toggleable__label-arrow\">estimator: DecisionTreeClassifier</label><div class=\"sk-toggleable__content\"><pre>DecisionTreeClassifier(criterion=&#x27;entropy&#x27;, max_depth=17, min_samples_leaf=3,\n",
       "                       min_samples_split=22, splitter=&#x27;random&#x27;)</pre></div></div></div><div class=\"sk-serial\"><div class=\"sk-item\"><div class=\"sk-estimator sk-toggleable\"><input class=\"sk-toggleable__control sk-hidden--visually\" id=\"sk-estimator-id-3\" type=\"checkbox\" ><label for=\"sk-estimator-id-3\" class=\"sk-toggleable__label sk-toggleable__label-arrow\">DecisionTreeClassifier</label><div class=\"sk-toggleable__content\"><pre>DecisionTreeClassifier(criterion=&#x27;entropy&#x27;, max_depth=17, min_samples_leaf=3,\n",
       "                       min_samples_split=22, splitter=&#x27;random&#x27;)</pre></div></div></div></div></div></div></div></div></div></div>"
      ],
      "text/plain": [
       "GridSearchCV(cv=5,\n",
       "             estimator=DecisionTreeClassifier(criterion='entropy', max_depth=17,\n",
       "                                              min_samples_leaf=3,\n",
       "                                              min_samples_split=22,\n",
       "                                              splitter='random'),\n",
       "             param_grid={'max_depth': [16, 17, 18],\n",
       "                         'min_samples_split': [20, 21, 22]})"
      ]
     },
     "execution_count": 36,
     "metadata": {},
     "output_type": "execute_result"
    }
   ],
   "source": [
    "grid_search.fit(X_train_scaled, y_train)"
   ]
  },
  {
   "cell_type": "code",
   "execution_count": 37,
   "id": "054c56ee-bf5a-43ac-b31d-889f5546a652",
   "metadata": {},
   "outputs": [
    {
     "data": {
      "text/plain": [
       "{'max_depth': 18, 'min_samples_split': 21}"
      ]
     },
     "execution_count": 37,
     "metadata": {},
     "output_type": "execute_result"
    }
   ],
   "source": [
    "grid_search.best_params_"
   ]
  },
  {
   "cell_type": "code",
   "execution_count": 38,
   "id": "6707ebb1-2fa3-4732-8541-b9723fd72123",
   "metadata": {},
   "outputs": [
    {
     "data": {
      "text/html": [
       "<style>#sk-container-id-2 {color: black;}#sk-container-id-2 pre{padding: 0;}#sk-container-id-2 div.sk-toggleable {background-color: white;}#sk-container-id-2 label.sk-toggleable__label {cursor: pointer;display: block;width: 100%;margin-bottom: 0;padding: 0.3em;box-sizing: border-box;text-align: center;}#sk-container-id-2 label.sk-toggleable__label-arrow:before {content: \"▸\";float: left;margin-right: 0.25em;color: #696969;}#sk-container-id-2 label.sk-toggleable__label-arrow:hover:before {color: black;}#sk-container-id-2 div.sk-estimator:hover label.sk-toggleable__label-arrow:before {color: black;}#sk-container-id-2 div.sk-toggleable__content {max-height: 0;max-width: 0;overflow: hidden;text-align: left;background-color: #f0f8ff;}#sk-container-id-2 div.sk-toggleable__content pre {margin: 0.2em;color: black;border-radius: 0.25em;background-color: #f0f8ff;}#sk-container-id-2 input.sk-toggleable__control:checked~div.sk-toggleable__content {max-height: 200px;max-width: 100%;overflow: auto;}#sk-container-id-2 input.sk-toggleable__control:checked~label.sk-toggleable__label-arrow:before {content: \"▾\";}#sk-container-id-2 div.sk-estimator input.sk-toggleable__control:checked~label.sk-toggleable__label {background-color: #d4ebff;}#sk-container-id-2 div.sk-label input.sk-toggleable__control:checked~label.sk-toggleable__label {background-color: #d4ebff;}#sk-container-id-2 input.sk-hidden--visually {border: 0;clip: rect(1px 1px 1px 1px);clip: rect(1px, 1px, 1px, 1px);height: 1px;margin: -1px;overflow: hidden;padding: 0;position: absolute;width: 1px;}#sk-container-id-2 div.sk-estimator {font-family: monospace;background-color: #f0f8ff;border: 1px dotted black;border-radius: 0.25em;box-sizing: border-box;margin-bottom: 0.5em;}#sk-container-id-2 div.sk-estimator:hover {background-color: #d4ebff;}#sk-container-id-2 div.sk-parallel-item::after {content: \"\";width: 100%;border-bottom: 1px solid gray;flex-grow: 1;}#sk-container-id-2 div.sk-label:hover label.sk-toggleable__label {background-color: #d4ebff;}#sk-container-id-2 div.sk-serial::before {content: \"\";position: absolute;border-left: 1px solid gray;box-sizing: border-box;top: 0;bottom: 0;left: 50%;z-index: 0;}#sk-container-id-2 div.sk-serial {display: flex;flex-direction: column;align-items: center;background-color: white;padding-right: 0.2em;padding-left: 0.2em;position: relative;}#sk-container-id-2 div.sk-item {position: relative;z-index: 1;}#sk-container-id-2 div.sk-parallel {display: flex;align-items: stretch;justify-content: center;background-color: white;position: relative;}#sk-container-id-2 div.sk-item::before, #sk-container-id-2 div.sk-parallel-item::before {content: \"\";position: absolute;border-left: 1px solid gray;box-sizing: border-box;top: 0;bottom: 0;left: 50%;z-index: -1;}#sk-container-id-2 div.sk-parallel-item {display: flex;flex-direction: column;z-index: 1;position: relative;background-color: white;}#sk-container-id-2 div.sk-parallel-item:first-child::after {align-self: flex-end;width: 50%;}#sk-container-id-2 div.sk-parallel-item:last-child::after {align-self: flex-start;width: 50%;}#sk-container-id-2 div.sk-parallel-item:only-child::after {width: 0;}#sk-container-id-2 div.sk-dashed-wrapped {border: 1px dashed gray;margin: 0 0.4em 0.5em 0.4em;box-sizing: border-box;padding-bottom: 0.4em;background-color: white;}#sk-container-id-2 div.sk-label label {font-family: monospace;font-weight: bold;display: inline-block;line-height: 1.2em;}#sk-container-id-2 div.sk-label-container {text-align: center;}#sk-container-id-2 div.sk-container {/* jupyter's `normalize.less` sets `[hidden] { display: none; }` but bootstrap.min.css set `[hidden] { display: none !important; }` so we also need the `!important` here to be able to override the default hidden behavior on the sphinx rendered scikit-learn.org. See: https://github.com/scikit-learn/scikit-learn/issues/21755 */display: inline-block !important;position: relative;}#sk-container-id-2 div.sk-text-repr-fallback {display: none;}</style><div id=\"sk-container-id-2\" class=\"sk-top-container\"><div class=\"sk-text-repr-fallback\"><pre>DecisionTreeClassifier(criterion=&#x27;entropy&#x27;, max_depth=17, min_samples_leaf=3,\n",
       "                       min_samples_split=22, splitter=&#x27;random&#x27;)</pre><b>In a Jupyter environment, please rerun this cell to show the HTML representation or trust the notebook. <br />On GitHub, the HTML representation is unable to render, please try loading this page with nbviewer.org.</b></div><div class=\"sk-container\" hidden><div class=\"sk-item\"><div class=\"sk-estimator sk-toggleable\"><input class=\"sk-toggleable__control sk-hidden--visually\" id=\"sk-estimator-id-4\" type=\"checkbox\" checked><label for=\"sk-estimator-id-4\" class=\"sk-toggleable__label sk-toggleable__label-arrow\">DecisionTreeClassifier</label><div class=\"sk-toggleable__content\"><pre>DecisionTreeClassifier(criterion=&#x27;entropy&#x27;, max_depth=17, min_samples_leaf=3,\n",
       "                       min_samples_split=22, splitter=&#x27;random&#x27;)</pre></div></div></div></div></div>"
      ],
      "text/plain": [
       "DecisionTreeClassifier(criterion='entropy', max_depth=17, min_samples_leaf=3,\n",
       "                       min_samples_split=22, splitter='random')"
      ]
     },
     "execution_count": 38,
     "metadata": {},
     "output_type": "execute_result"
    }
   ],
   "source": [
    "dtc.fit(X_train_scaled, y_train)"
   ]
  },
  {
   "cell_type": "code",
   "execution_count": 39,
   "id": "11575821-5600-4759-a09c-10954a06f093",
   "metadata": {},
   "outputs": [],
   "source": [
    "predictions = dtc.predict(X_test_scaled)"
   ]
  },
  {
   "cell_type": "code",
   "execution_count": 40,
   "id": "8efcec9a-747d-49bf-a014-43b00b662fb6",
   "metadata": {},
   "outputs": [
    {
     "name": "stdout",
     "output_type": "stream",
     "text": [
      "[False False  True ...  True  True False]\n"
     ]
    }
   ],
   "source": [
    "output_array = predictions.astype(bool)\n",
    "\n",
    "print(output_array)"
   ]
  },
  {
   "cell_type": "code",
   "execution_count": 41,
   "id": "dc06f726-f1af-491c-9629-fa8e67ace4ba",
   "metadata": {},
   "outputs": [],
   "source": [
    "final_ouput = {\n",
    "    'PassengerId':test_df.index,\n",
    "    'Transported':output_array\n",
    "}"
   ]
  },
  {
   "cell_type": "code",
   "execution_count": 42,
   "id": "7d70c4de-5757-4c53-a823-8312fbdda755",
   "metadata": {},
   "outputs": [],
   "source": [
    "submission = pd.DataFrame(final_ouput)"
   ]
  },
  {
   "cell_type": "code",
   "execution_count": 43,
   "id": "eaaa9737-246c-4847-8c34-8c03bdfe7b8c",
   "metadata": {},
   "outputs": [
    {
     "data": {
      "text/html": [
       "<div>\n",
       "<style scoped>\n",
       "    .dataframe tbody tr th:only-of-type {\n",
       "        vertical-align: middle;\n",
       "    }\n",
       "\n",
       "    .dataframe tbody tr th {\n",
       "        vertical-align: top;\n",
       "    }\n",
       "\n",
       "    .dataframe thead th {\n",
       "        text-align: right;\n",
       "    }\n",
       "</style>\n",
       "<table border=\"1\" class=\"dataframe\">\n",
       "  <thead>\n",
       "    <tr style=\"text-align: right;\">\n",
       "      <th></th>\n",
       "      <th>PassengerId</th>\n",
       "      <th>Transported</th>\n",
       "    </tr>\n",
       "  </thead>\n",
       "  <tbody>\n",
       "    <tr>\n",
       "      <th>0</th>\n",
       "      <td>0013_01</td>\n",
       "      <td>False</td>\n",
       "    </tr>\n",
       "    <tr>\n",
       "      <th>1</th>\n",
       "      <td>0018_01</td>\n",
       "      <td>False</td>\n",
       "    </tr>\n",
       "    <tr>\n",
       "      <th>2</th>\n",
       "      <td>0019_01</td>\n",
       "      <td>True</td>\n",
       "    </tr>\n",
       "    <tr>\n",
       "      <th>3</th>\n",
       "      <td>0021_01</td>\n",
       "      <td>True</td>\n",
       "    </tr>\n",
       "    <tr>\n",
       "      <th>4</th>\n",
       "      <td>0023_01</td>\n",
       "      <td>False</td>\n",
       "    </tr>\n",
       "    <tr>\n",
       "      <th>...</th>\n",
       "      <td>...</td>\n",
       "      <td>...</td>\n",
       "    </tr>\n",
       "    <tr>\n",
       "      <th>4272</th>\n",
       "      <td>9266_02</td>\n",
       "      <td>True</td>\n",
       "    </tr>\n",
       "    <tr>\n",
       "      <th>4273</th>\n",
       "      <td>9269_01</td>\n",
       "      <td>False</td>\n",
       "    </tr>\n",
       "    <tr>\n",
       "      <th>4274</th>\n",
       "      <td>9271_01</td>\n",
       "      <td>True</td>\n",
       "    </tr>\n",
       "    <tr>\n",
       "      <th>4275</th>\n",
       "      <td>9273_01</td>\n",
       "      <td>True</td>\n",
       "    </tr>\n",
       "    <tr>\n",
       "      <th>4276</th>\n",
       "      <td>9277_01</td>\n",
       "      <td>False</td>\n",
       "    </tr>\n",
       "  </tbody>\n",
       "</table>\n",
       "<p>4277 rows × 2 columns</p>\n",
       "</div>"
      ],
      "text/plain": [
       "     PassengerId  Transported\n",
       "0        0013_01        False\n",
       "1        0018_01        False\n",
       "2        0019_01         True\n",
       "3        0021_01         True\n",
       "4        0023_01        False\n",
       "...          ...          ...\n",
       "4272     9266_02         True\n",
       "4273     9269_01        False\n",
       "4274     9271_01         True\n",
       "4275     9273_01         True\n",
       "4276     9277_01        False\n",
       "\n",
       "[4277 rows x 2 columns]"
      ]
     },
     "execution_count": 43,
     "metadata": {},
     "output_type": "execute_result"
    }
   ],
   "source": [
    "submission"
   ]
  },
  {
   "cell_type": "code",
   "execution_count": 44,
   "id": "01639519-ea03-475d-9da9-6e7aa2bed3d6",
   "metadata": {},
   "outputs": [],
   "source": [
    "submission.to_csv('dtc_predictions.csv', index_label=False, index=False)"
   ]
  },
  {
   "cell_type": "markdown",
   "id": "dcee4778-7824-42be-a827-2c3c18bafe07",
   "metadata": {},
   "source": [
    "#### The DTC model got a score of 78.40% "
   ]
  },
  {
   "cell_type": "markdown",
   "id": "545d9d89-1ff9-40dc-90f8-0d02adb4e877",
   "metadata": {},
   "source": [
    "### K-Nearest Neighbors "
   ]
  },
  {
   "cell_type": "code",
   "execution_count": 45,
   "id": "c03635dd-db0d-4ff9-8f1a-158e1d71f502",
   "metadata": {},
   "outputs": [],
   "source": [
    "param_grid = {         \n",
    "    'leaf_size': [1, 2, 3]\n",
    "}"
   ]
  },
  {
   "cell_type": "code",
   "execution_count": 46,
   "id": "ff30691b-b916-4d86-ac02-b7b95e4fb71b",
   "metadata": {},
   "outputs": [],
   "source": [
    "knnc = KNeighborsClassifier(p=1, n_neighbors=10, weights='uniform', leaf_size=1)"
   ]
  },
  {
   "cell_type": "code",
   "execution_count": 47,
   "id": "f41cb369-ae0e-4e66-aa03-bea98ba23605",
   "metadata": {},
   "outputs": [],
   "source": [
    "grid_search = GridSearchCV(knnc, param_grid, cv=3)"
   ]
  },
  {
   "cell_type": "code",
   "execution_count": 48,
   "id": "f6cd25cf-6505-42a3-9a6f-3109585af5e7",
   "metadata": {},
   "outputs": [
    {
     "data": {
      "text/html": [
       "<style>#sk-container-id-3 {color: black;}#sk-container-id-3 pre{padding: 0;}#sk-container-id-3 div.sk-toggleable {background-color: white;}#sk-container-id-3 label.sk-toggleable__label {cursor: pointer;display: block;width: 100%;margin-bottom: 0;padding: 0.3em;box-sizing: border-box;text-align: center;}#sk-container-id-3 label.sk-toggleable__label-arrow:before {content: \"▸\";float: left;margin-right: 0.25em;color: #696969;}#sk-container-id-3 label.sk-toggleable__label-arrow:hover:before {color: black;}#sk-container-id-3 div.sk-estimator:hover label.sk-toggleable__label-arrow:before {color: black;}#sk-container-id-3 div.sk-toggleable__content {max-height: 0;max-width: 0;overflow: hidden;text-align: left;background-color: #f0f8ff;}#sk-container-id-3 div.sk-toggleable__content pre {margin: 0.2em;color: black;border-radius: 0.25em;background-color: #f0f8ff;}#sk-container-id-3 input.sk-toggleable__control:checked~div.sk-toggleable__content {max-height: 200px;max-width: 100%;overflow: auto;}#sk-container-id-3 input.sk-toggleable__control:checked~label.sk-toggleable__label-arrow:before {content: \"▾\";}#sk-container-id-3 div.sk-estimator input.sk-toggleable__control:checked~label.sk-toggleable__label {background-color: #d4ebff;}#sk-container-id-3 div.sk-label input.sk-toggleable__control:checked~label.sk-toggleable__label {background-color: #d4ebff;}#sk-container-id-3 input.sk-hidden--visually {border: 0;clip: rect(1px 1px 1px 1px);clip: rect(1px, 1px, 1px, 1px);height: 1px;margin: -1px;overflow: hidden;padding: 0;position: absolute;width: 1px;}#sk-container-id-3 div.sk-estimator {font-family: monospace;background-color: #f0f8ff;border: 1px dotted black;border-radius: 0.25em;box-sizing: border-box;margin-bottom: 0.5em;}#sk-container-id-3 div.sk-estimator:hover {background-color: #d4ebff;}#sk-container-id-3 div.sk-parallel-item::after {content: \"\";width: 100%;border-bottom: 1px solid gray;flex-grow: 1;}#sk-container-id-3 div.sk-label:hover label.sk-toggleable__label {background-color: #d4ebff;}#sk-container-id-3 div.sk-serial::before {content: \"\";position: absolute;border-left: 1px solid gray;box-sizing: border-box;top: 0;bottom: 0;left: 50%;z-index: 0;}#sk-container-id-3 div.sk-serial {display: flex;flex-direction: column;align-items: center;background-color: white;padding-right: 0.2em;padding-left: 0.2em;position: relative;}#sk-container-id-3 div.sk-item {position: relative;z-index: 1;}#sk-container-id-3 div.sk-parallel {display: flex;align-items: stretch;justify-content: center;background-color: white;position: relative;}#sk-container-id-3 div.sk-item::before, #sk-container-id-3 div.sk-parallel-item::before {content: \"\";position: absolute;border-left: 1px solid gray;box-sizing: border-box;top: 0;bottom: 0;left: 50%;z-index: -1;}#sk-container-id-3 div.sk-parallel-item {display: flex;flex-direction: column;z-index: 1;position: relative;background-color: white;}#sk-container-id-3 div.sk-parallel-item:first-child::after {align-self: flex-end;width: 50%;}#sk-container-id-3 div.sk-parallel-item:last-child::after {align-self: flex-start;width: 50%;}#sk-container-id-3 div.sk-parallel-item:only-child::after {width: 0;}#sk-container-id-3 div.sk-dashed-wrapped {border: 1px dashed gray;margin: 0 0.4em 0.5em 0.4em;box-sizing: border-box;padding-bottom: 0.4em;background-color: white;}#sk-container-id-3 div.sk-label label {font-family: monospace;font-weight: bold;display: inline-block;line-height: 1.2em;}#sk-container-id-3 div.sk-label-container {text-align: center;}#sk-container-id-3 div.sk-container {/* jupyter's `normalize.less` sets `[hidden] { display: none; }` but bootstrap.min.css set `[hidden] { display: none !important; }` so we also need the `!important` here to be able to override the default hidden behavior on the sphinx rendered scikit-learn.org. See: https://github.com/scikit-learn/scikit-learn/issues/21755 */display: inline-block !important;position: relative;}#sk-container-id-3 div.sk-text-repr-fallback {display: none;}</style><div id=\"sk-container-id-3\" class=\"sk-top-container\"><div class=\"sk-text-repr-fallback\"><pre>GridSearchCV(cv=3,\n",
       "             estimator=KNeighborsClassifier(leaf_size=1, n_neighbors=10, p=1),\n",
       "             param_grid={&#x27;leaf_size&#x27;: [1, 2, 3]})</pre><b>In a Jupyter environment, please rerun this cell to show the HTML representation or trust the notebook. <br />On GitHub, the HTML representation is unable to render, please try loading this page with nbviewer.org.</b></div><div class=\"sk-container\" hidden><div class=\"sk-item sk-dashed-wrapped\"><div class=\"sk-label-container\"><div class=\"sk-label sk-toggleable\"><input class=\"sk-toggleable__control sk-hidden--visually\" id=\"sk-estimator-id-5\" type=\"checkbox\" ><label for=\"sk-estimator-id-5\" class=\"sk-toggleable__label sk-toggleable__label-arrow\">GridSearchCV</label><div class=\"sk-toggleable__content\"><pre>GridSearchCV(cv=3,\n",
       "             estimator=KNeighborsClassifier(leaf_size=1, n_neighbors=10, p=1),\n",
       "             param_grid={&#x27;leaf_size&#x27;: [1, 2, 3]})</pre></div></div></div><div class=\"sk-parallel\"><div class=\"sk-parallel-item\"><div class=\"sk-item\"><div class=\"sk-label-container\"><div class=\"sk-label sk-toggleable\"><input class=\"sk-toggleable__control sk-hidden--visually\" id=\"sk-estimator-id-6\" type=\"checkbox\" ><label for=\"sk-estimator-id-6\" class=\"sk-toggleable__label sk-toggleable__label-arrow\">estimator: KNeighborsClassifier</label><div class=\"sk-toggleable__content\"><pre>KNeighborsClassifier(leaf_size=1, n_neighbors=10, p=1)</pre></div></div></div><div class=\"sk-serial\"><div class=\"sk-item\"><div class=\"sk-estimator sk-toggleable\"><input class=\"sk-toggleable__control sk-hidden--visually\" id=\"sk-estimator-id-7\" type=\"checkbox\" ><label for=\"sk-estimator-id-7\" class=\"sk-toggleable__label sk-toggleable__label-arrow\">KNeighborsClassifier</label><div class=\"sk-toggleable__content\"><pre>KNeighborsClassifier(leaf_size=1, n_neighbors=10, p=1)</pre></div></div></div></div></div></div></div></div></div></div>"
      ],
      "text/plain": [
       "GridSearchCV(cv=3,\n",
       "             estimator=KNeighborsClassifier(leaf_size=1, n_neighbors=10, p=1),\n",
       "             param_grid={'leaf_size': [1, 2, 3]})"
      ]
     },
     "execution_count": 48,
     "metadata": {},
     "output_type": "execute_result"
    }
   ],
   "source": [
    "grid_search.fit(X_train_scaled, y_train)"
   ]
  },
  {
   "cell_type": "code",
   "execution_count": 49,
   "id": "f5c6c1c2-dacd-4af8-89c3-8e7621bb5e2c",
   "metadata": {},
   "outputs": [
    {
     "data": {
      "text/plain": [
       "{'leaf_size': 1}"
      ]
     },
     "execution_count": 49,
     "metadata": {},
     "output_type": "execute_result"
    }
   ],
   "source": [
    "grid_search.best_params_"
   ]
  },
  {
   "cell_type": "code",
   "execution_count": 50,
   "id": "6a071d1c-4d2d-470b-b73d-63e9a92deef3",
   "metadata": {},
   "outputs": [
    {
     "data": {
      "text/html": [
       "<style>#sk-container-id-4 {color: black;}#sk-container-id-4 pre{padding: 0;}#sk-container-id-4 div.sk-toggleable {background-color: white;}#sk-container-id-4 label.sk-toggleable__label {cursor: pointer;display: block;width: 100%;margin-bottom: 0;padding: 0.3em;box-sizing: border-box;text-align: center;}#sk-container-id-4 label.sk-toggleable__label-arrow:before {content: \"▸\";float: left;margin-right: 0.25em;color: #696969;}#sk-container-id-4 label.sk-toggleable__label-arrow:hover:before {color: black;}#sk-container-id-4 div.sk-estimator:hover label.sk-toggleable__label-arrow:before {color: black;}#sk-container-id-4 div.sk-toggleable__content {max-height: 0;max-width: 0;overflow: hidden;text-align: left;background-color: #f0f8ff;}#sk-container-id-4 div.sk-toggleable__content pre {margin: 0.2em;color: black;border-radius: 0.25em;background-color: #f0f8ff;}#sk-container-id-4 input.sk-toggleable__control:checked~div.sk-toggleable__content {max-height: 200px;max-width: 100%;overflow: auto;}#sk-container-id-4 input.sk-toggleable__control:checked~label.sk-toggleable__label-arrow:before {content: \"▾\";}#sk-container-id-4 div.sk-estimator input.sk-toggleable__control:checked~label.sk-toggleable__label {background-color: #d4ebff;}#sk-container-id-4 div.sk-label input.sk-toggleable__control:checked~label.sk-toggleable__label {background-color: #d4ebff;}#sk-container-id-4 input.sk-hidden--visually {border: 0;clip: rect(1px 1px 1px 1px);clip: rect(1px, 1px, 1px, 1px);height: 1px;margin: -1px;overflow: hidden;padding: 0;position: absolute;width: 1px;}#sk-container-id-4 div.sk-estimator {font-family: monospace;background-color: #f0f8ff;border: 1px dotted black;border-radius: 0.25em;box-sizing: border-box;margin-bottom: 0.5em;}#sk-container-id-4 div.sk-estimator:hover {background-color: #d4ebff;}#sk-container-id-4 div.sk-parallel-item::after {content: \"\";width: 100%;border-bottom: 1px solid gray;flex-grow: 1;}#sk-container-id-4 div.sk-label:hover label.sk-toggleable__label {background-color: #d4ebff;}#sk-container-id-4 div.sk-serial::before {content: \"\";position: absolute;border-left: 1px solid gray;box-sizing: border-box;top: 0;bottom: 0;left: 50%;z-index: 0;}#sk-container-id-4 div.sk-serial {display: flex;flex-direction: column;align-items: center;background-color: white;padding-right: 0.2em;padding-left: 0.2em;position: relative;}#sk-container-id-4 div.sk-item {position: relative;z-index: 1;}#sk-container-id-4 div.sk-parallel {display: flex;align-items: stretch;justify-content: center;background-color: white;position: relative;}#sk-container-id-4 div.sk-item::before, #sk-container-id-4 div.sk-parallel-item::before {content: \"\";position: absolute;border-left: 1px solid gray;box-sizing: border-box;top: 0;bottom: 0;left: 50%;z-index: -1;}#sk-container-id-4 div.sk-parallel-item {display: flex;flex-direction: column;z-index: 1;position: relative;background-color: white;}#sk-container-id-4 div.sk-parallel-item:first-child::after {align-self: flex-end;width: 50%;}#sk-container-id-4 div.sk-parallel-item:last-child::after {align-self: flex-start;width: 50%;}#sk-container-id-4 div.sk-parallel-item:only-child::after {width: 0;}#sk-container-id-4 div.sk-dashed-wrapped {border: 1px dashed gray;margin: 0 0.4em 0.5em 0.4em;box-sizing: border-box;padding-bottom: 0.4em;background-color: white;}#sk-container-id-4 div.sk-label label {font-family: monospace;font-weight: bold;display: inline-block;line-height: 1.2em;}#sk-container-id-4 div.sk-label-container {text-align: center;}#sk-container-id-4 div.sk-container {/* jupyter's `normalize.less` sets `[hidden] { display: none; }` but bootstrap.min.css set `[hidden] { display: none !important; }` so we also need the `!important` here to be able to override the default hidden behavior on the sphinx rendered scikit-learn.org. See: https://github.com/scikit-learn/scikit-learn/issues/21755 */display: inline-block !important;position: relative;}#sk-container-id-4 div.sk-text-repr-fallback {display: none;}</style><div id=\"sk-container-id-4\" class=\"sk-top-container\"><div class=\"sk-text-repr-fallback\"><pre>KNeighborsClassifier(leaf_size=1, n_neighbors=10, p=1)</pre><b>In a Jupyter environment, please rerun this cell to show the HTML representation or trust the notebook. <br />On GitHub, the HTML representation is unable to render, please try loading this page with nbviewer.org.</b></div><div class=\"sk-container\" hidden><div class=\"sk-item\"><div class=\"sk-estimator sk-toggleable\"><input class=\"sk-toggleable__control sk-hidden--visually\" id=\"sk-estimator-id-8\" type=\"checkbox\" checked><label for=\"sk-estimator-id-8\" class=\"sk-toggleable__label sk-toggleable__label-arrow\">KNeighborsClassifier</label><div class=\"sk-toggleable__content\"><pre>KNeighborsClassifier(leaf_size=1, n_neighbors=10, p=1)</pre></div></div></div></div></div>"
      ],
      "text/plain": [
       "KNeighborsClassifier(leaf_size=1, n_neighbors=10, p=1)"
      ]
     },
     "execution_count": 50,
     "metadata": {},
     "output_type": "execute_result"
    }
   ],
   "source": [
    "knnc.fit(X_train_scaled, y_train)"
   ]
  },
  {
   "cell_type": "code",
   "execution_count": 51,
   "id": "c2772ffb-4231-4cf8-9119-2bb4032ea67b",
   "metadata": {},
   "outputs": [],
   "source": [
    "predictions = knnc.predict(X_test_scaled)"
   ]
  },
  {
   "cell_type": "code",
   "execution_count": 52,
   "id": "5b1a2777-2139-48ac-99f3-85e0256d7c3a",
   "metadata": {},
   "outputs": [],
   "source": [
    "output_array = predictions.astype(bool)"
   ]
  },
  {
   "cell_type": "code",
   "execution_count": 53,
   "id": "534a64ca-6689-493a-b921-815b1824ab17",
   "metadata": {},
   "outputs": [],
   "source": [
    "final_ouput = {\n",
    "    'PassengerId':test_df.index,\n",
    "    'Transported':output_array\n",
    "}"
   ]
  },
  {
   "cell_type": "code",
   "execution_count": 54,
   "id": "2be50f82-fb24-46bf-8f93-4165e2e1ad35",
   "metadata": {},
   "outputs": [],
   "source": [
    "submission = pd.DataFrame(final_ouput)"
   ]
  },
  {
   "cell_type": "code",
   "execution_count": 55,
   "id": "fc486b80-7d3c-423d-9697-433c7c7119b9",
   "metadata": {},
   "outputs": [],
   "source": [
    "submission.to_csv('knn_predictions.csv', index_label=False, index=False)"
   ]
  },
  {
   "cell_type": "markdown",
   "id": "0c21ecb2-1189-4a13-bc0d-d854ef44cdff",
   "metadata": {},
   "source": [
    "#### The KNN model got a score of 75.54%"
   ]
  },
  {
   "cell_type": "markdown",
   "id": "26403621-9224-4c17-b7bb-3ee214b36775",
   "metadata": {},
   "source": [
    "### Neural Network"
   ]
  },
  {
   "cell_type": "markdown",
   "id": "d952f838-65d7-46c1-bc54-9e72670e9a30",
   "metadata": {},
   "source": [
    "#### Basic NN"
   ]
  },
  {
   "cell_type": "code",
   "execution_count": null,
   "id": "73ff7bc6-17d6-4051-b678-58140739089a",
   "metadata": {
    "scrolled": true
   },
   "outputs": [],
   "source": [
    "model = Sequential()\n",
    "\n",
    "model.add(Dense(100, activation='relu'))\n",
    "model.add(Dropout(0.2))\n",
    "model.add(Dense(50, activation='relu'))\n",
    "\n",
    "model.add(Dense(1, activation='sigmoid'))\n",
    "\n",
    "model.compile(optimizer='adam', loss='binary_crossentropy', metrics=['accuracy'])"
   ]
  },
  {
   "cell_type": "code",
   "execution_count": 57,
   "id": "2a37fb5a-7bbe-49ae-a13d-01cb7b346ea8",
   "metadata": {},
   "outputs": [],
   "source": [
    "early_stop = EarlyStopping(monitor='accuracy', patience=1)"
   ]
  },
  {
   "cell_type": "code",
   "execution_count": 58,
   "id": "4ea5648d-8c20-462e-abee-a73c7f33ea30",
   "metadata": {},
   "outputs": [
    {
     "name": "stdout",
     "output_type": "stream",
     "text": [
      "Epoch 1/100\n",
      "272/272 [==============================] - 1s 606us/step - loss: 0.5504 - accuracy: 0.7175\n",
      "Epoch 2/100\n",
      "272/272 [==============================] - 0s 585us/step - loss: 0.4820 - accuracy: 0.7587\n",
      "Epoch 3/100\n",
      "272/272 [==============================] - 0s 585us/step - loss: 0.4566 - accuracy: 0.7751\n",
      "Epoch 4/100\n",
      "272/272 [==============================] - 0s 574us/step - loss: 0.4388 - accuracy: 0.7850\n",
      "Epoch 5/100\n",
      "272/272 [==============================] - 0s 580us/step - loss: 0.4313 - accuracy: 0.7799\n"
     ]
    },
    {
     "data": {
      "text/plain": [
       "<keras.src.callbacks.History at 0x7fc33339f790>"
      ]
     },
     "execution_count": 58,
     "metadata": {},
     "output_type": "execute_result"
    }
   ],
   "source": [
    "model.fit(X_train_scaled, y_train, epochs=100, callbacks=[early_stop])"
   ]
  },
  {
   "cell_type": "code",
   "execution_count": 59,
   "id": "f8dc8cdc-c94b-4835-abcc-ece7a29bb16b",
   "metadata": {},
   "outputs": [
    {
     "name": "stdout",
     "output_type": "stream",
     "text": [
      "134/134 [==============================] - 0s 445us/step\n"
     ]
    }
   ],
   "source": [
    "predictions = model.predict(X_test_scaled)"
   ]
  },
  {
   "cell_type": "code",
   "execution_count": 60,
   "id": "948b3180-1316-43f0-880d-fb3929648537",
   "metadata": {},
   "outputs": [],
   "source": [
    "y_pred = (predictions >= 0.5).astype(bool)"
   ]
  },
  {
   "cell_type": "code",
   "execution_count": 61,
   "id": "57dd288c-a34d-41f9-a232-e0953ac33098",
   "metadata": {},
   "outputs": [],
   "source": [
    "final_ouput = {\n",
    "    'PassengerId':test_df.index,\n",
    "    'Transported':y_pred.ravel()\n",
    "}"
   ]
  },
  {
   "cell_type": "code",
   "execution_count": 62,
   "id": "84309979-c92f-4389-b85a-6e3587a327ee",
   "metadata": {},
   "outputs": [
    {
     "data": {
      "text/plain": [
       "array([ True, False,  True, ...,  True,  True,  True])"
      ]
     },
     "execution_count": 62,
     "metadata": {},
     "output_type": "execute_result"
    }
   ],
   "source": [
    "y_pred.ravel()"
   ]
  },
  {
   "cell_type": "code",
   "execution_count": 63,
   "id": "5b59ef04-31b0-402a-b640-6755857235bf",
   "metadata": {
    "scrolled": true
   },
   "outputs": [],
   "source": [
    "submission = pd.DataFrame(final_ouput)"
   ]
  },
  {
   "cell_type": "code",
   "execution_count": 64,
   "id": "969f7a60-b403-4ab6-9c7a-1dfde0a29e40",
   "metadata": {},
   "outputs": [],
   "source": [
    "submission.to_csv('basic_nn_predictions.csv', index_label=False, index=False)"
   ]
  },
  {
   "cell_type": "markdown",
   "id": "889e53f4-1ee0-4f37-8cd5-7a39fb9978e8",
   "metadata": {},
   "source": [
    "#### The score of the Basic Nerual Network was 79.66%"
   ]
  },
  {
   "cell_type": "markdown",
   "id": "a8c6ace1-f077-426b-a794-e8b8d078e734",
   "metadata": {},
   "source": [
    "### Complex Neural Network"
   ]
  },
  {
   "cell_type": "markdown",
   "id": "71a3d264-8e44-45b5-b3d8-f2405211e0a7",
   "metadata": {},
   "source": [
    "Based on the correlation we saw before I want to try and take some features that have higher correlation and try to make branches in the model to process these seperatly and try to get a higher score and maybe get in the 80 percentile. "
   ]
  },
  {
   "cell_type": "code",
   "execution_count": 65,
   "id": "cc42393e-e94a-49f2-bfaf-5ddfb4934986",
   "metadata": {},
   "outputs": [],
   "source": [
    "\"\"\"Split data even more\"\"\"\n",
    "\n",
    "X_train_home = X_train[['HomePlanet_Earth', 'HomePlanet_Europa', 'HomePlanet_Mars', 'HomePlanet_Unknown']]\n",
    "X_train_spending = X_train[['TotalSpend', 'RoomService', 'FoodCourt', 'ShoppingMall', 'Spa', 'VRDeck']]\n",
    "X_train_destination = X_train[['Destination_55 Cancri e', 'Destination_PSO J318.5-22', 'Destination_TRAPPIST-1e', 'Destination_Unknown']]\n",
    "X_train_rest = X_train.drop(['Destination_55 Cancri e', 'Destination_PSO J318.5-22', 'Destination_TRAPPIST-1e', 'Destination_Unknown',\n",
    "                            'TotalSpend', 'RoomService', 'FoodCourt', 'ShoppingMall', 'Spa', 'VRDeck', \n",
    "                            'HomePlanet_Earth', 'HomePlanet_Europa', 'HomePlanet_Mars', 'HomePlanet_Unknown'], axis=1)\n",
    "\n",
    "X_test_home = X_test[['HomePlanet_Earth', 'HomePlanet_Europa', 'HomePlanet_Mars', 'HomePlanet_Unknown']]\n",
    "X_test_spending = X_test[['TotalSpend', 'RoomService', 'FoodCourt', 'ShoppingMall', 'Spa', 'VRDeck']]\n",
    "X_test_destination = X_test[['Destination_55 Cancri e', 'Destination_PSO J318.5-22', 'Destination_TRAPPIST-1e', 'Destination_Unknown']]\n",
    "X_test_rest = X_test.drop(['Destination_55 Cancri e', 'Destination_PSO J318.5-22', 'Destination_TRAPPIST-1e', 'Destination_Unknown',\n",
    "                            'TotalSpend', 'RoomService', 'FoodCourt', 'ShoppingMall', 'Spa', 'VRDeck', \n",
    "                            'HomePlanet_Earth', 'HomePlanet_Europa', 'HomePlanet_Mars', 'HomePlanet_Unknown'], axis=1)"
   ]
  },
  {
   "cell_type": "code",
   "execution_count": 66,
   "id": "8f0a5e26-ae94-43e2-be0b-66983066bccb",
   "metadata": {},
   "outputs": [],
   "source": [
    "scaler_home = MinMaxScaler()\n",
    "scaler_spending = MinMaxScaler()\n",
    "scaler_destination = MinMaxScaler()\n",
    "scaler_rest = MinMaxScaler()"
   ]
  },
  {
   "cell_type": "code",
   "execution_count": 67,
   "id": "38a50963-a6d7-4328-bd82-6c455ec64a4b",
   "metadata": {},
   "outputs": [],
   "source": [
    "X_train_home = scaler_home.fit_transform(X_train_home)\n",
    "X_train_spending = scaler_spending.fit_transform(X_train_spending)\n",
    "X_train_destination = scaler_destination.fit_transform(X_train_destination)\n",
    "X_train_rest = scaler_rest.fit_transform(X_train_rest)"
   ]
  },
  {
   "cell_type": "code",
   "execution_count": 68,
   "id": "43b88f33-eb2e-4fb4-af31-45fc8250b9da",
   "metadata": {},
   "outputs": [],
   "source": [
    "X_test_home = scaler_home.transform(X_test_home)\n",
    "X_test_spending = scaler_spending.transform(X_test_spending)\n",
    "X_test_destination = scaler_destination.transform(X_test_destination)\n",
    "X_test_rest = scaler_rest.transform(X_test_rest)"
   ]
  },
  {
   "cell_type": "code",
   "execution_count": 69,
   "id": "3a8ece01-e381-4d04-bdd6-c0dca848f49a",
   "metadata": {},
   "outputs": [],
   "source": [
    "input_home = Input(shape=(X_train_home.shape[-1],))\n",
    "input_spending = Input(shape=(X_train_spending.shape[-1],))\n",
    "input_destination = Input(shape=(X_train_destination.shape[-1],))\n",
    "input_rest = Input(shape=(X_train_rest.shape[-1],))"
   ]
  },
  {
   "cell_type": "code",
   "execution_count": 70,
   "id": "c568772f-309f-4373-ba14-75212b84762d",
   "metadata": {},
   "outputs": [],
   "source": [
    "branch_home = Dense(100, activation='relu')(input_home)\n",
    "branch_home = Dropout(0.2)(input_home)\n",
    "branch_home = Dense(50, activation='relu')(input_home)\n",
    "\n",
    "branch_spending = Dense(100, activation='relu')(input_spending)\n",
    "branch_spending = Dropout(0.2)\n",
    "branch_spending = Dense(50, activation='relu')(input_spending)\n",
    "\n",
    "branch_destination = Dense(100, activation='relu')(input_destination)\n",
    "branch_destination = Dropout(0.2)(input_destination)\n",
    "branch_destination = Dense(50, activation='relu')(input_destination)\n",
    "\n",
    "branch_rest = Dense(150, activation='relu')(input_rest)\n",
    "branch_rest = Dropout(0.2)(input_rest)\n",
    "branch_rest = Dense(100, activation='relu')(input_rest)\n",
    "branch_rest = Dropout(0.2)(input_rest)\n",
    "branch_rest = Dense(50, activation='relu')(input_rest)"
   ]
  },
  {
   "cell_type": "code",
   "execution_count": 71,
   "id": "c54c20a0-14f3-4f1a-8c5b-c011a0360790",
   "metadata": {},
   "outputs": [],
   "source": [
    "merged = Concatenate()([branch_home, branch_spending, branch_destination, branch_rest])"
   ]
  },
  {
   "cell_type": "code",
   "execution_count": 72,
   "id": "3f056d16-d136-4d30-8548-55ee92187c03",
   "metadata": {},
   "outputs": [],
   "source": [
    "merged = Dense(50, activation='relu')(merged)"
   ]
  },
  {
   "cell_type": "code",
   "execution_count": 73,
   "id": "2bf277f2-dda0-43b7-b244-eb24e978aa9f",
   "metadata": {},
   "outputs": [],
   "source": [
    "output = Dense(1, activation='sigmoid')(merged)"
   ]
  },
  {
   "cell_type": "code",
   "execution_count": 74,
   "id": "215f80fc-7b86-4a92-94dd-81b7865a73ce",
   "metadata": {},
   "outputs": [],
   "source": [
    "model = Model(inputs=[input_home, input_spending, input_destination, input_rest], outputs=output)"
   ]
  },
  {
   "cell_type": "code",
   "execution_count": 75,
   "id": "0ddc2c24-aa8e-49a0-b4d3-c6f0c8043118",
   "metadata": {},
   "outputs": [
    {
     "name": "stdout",
     "output_type": "stream",
     "text": [
      "Model: \"model\"\n",
      "__________________________________________________________________________________________________\n",
      " Layer (type)                Output Shape                 Param #   Connected to                  \n",
      "==================================================================================================\n",
      " input_1 (InputLayer)        [(None, 4)]                  0         []                            \n",
      "                                                                                                  \n",
      " input_2 (InputLayer)        [(None, 6)]                  0         []                            \n",
      "                                                                                                  \n",
      " input_3 (InputLayer)        [(None, 4)]                  0         []                            \n",
      "                                                                                                  \n",
      " input_4 (InputLayer)        [(None, 16)]                 0         []                            \n",
      "                                                                                                  \n",
      " dense_4 (Dense)             (None, 50)                   250       ['input_1[0][0]']             \n",
      "                                                                                                  \n",
      " dense_6 (Dense)             (None, 50)                   350       ['input_2[0][0]']             \n",
      "                                                                                                  \n",
      " dense_8 (Dense)             (None, 50)                   250       ['input_3[0][0]']             \n",
      "                                                                                                  \n",
      " dense_11 (Dense)            (None, 50)                   850       ['input_4[0][0]']             \n",
      "                                                                                                  \n",
      " concatenate (Concatenate)   (None, 200)                  0         ['dense_4[0][0]',             \n",
      "                                                                     'dense_6[0][0]',             \n",
      "                                                                     'dense_8[0][0]',             \n",
      "                                                                     'dense_11[0][0]']            \n",
      "                                                                                                  \n",
      " dense_12 (Dense)            (None, 50)                   10050     ['concatenate[0][0]']         \n",
      "                                                                                                  \n",
      " dense_13 (Dense)            (None, 1)                    51        ['dense_12[0][0]']            \n",
      "                                                                                                  \n",
      "==================================================================================================\n",
      "Total params: 11801 (46.10 KB)\n",
      "Trainable params: 11801 (46.10 KB)\n",
      "Non-trainable params: 0 (0.00 Byte)\n",
      "__________________________________________________________________________________________________\n"
     ]
    }
   ],
   "source": [
    "model.summary()"
   ]
  },
  {
   "cell_type": "code",
   "execution_count": 76,
   "id": "ec37016e-0d84-457c-8e15-36400ac7d65b",
   "metadata": {},
   "outputs": [],
   "source": [
    "model.compile(optimizer='adam', loss='binary_crossentropy', metrics=['accuracy'])"
   ]
  },
  {
   "cell_type": "code",
   "execution_count": 77,
   "id": "4c8c2dab-f908-4a31-a85a-dbfdf9ce6e01",
   "metadata": {},
   "outputs": [
    {
     "name": "stdout",
     "output_type": "stream",
     "text": [
      "Epoch 1/100\n",
      "272/272 [==============================] - 1s 740us/step - loss: 0.5245 - accuracy: 0.7389\n",
      "Epoch 2/100\n",
      "272/272 [==============================] - 0s 706us/step - loss: 0.4293 - accuracy: 0.7874\n",
      "Epoch 3/100\n",
      "272/272 [==============================] - 0s 679us/step - loss: 0.4187 - accuracy: 0.7965\n",
      "Epoch 4/100\n",
      "272/272 [==============================] - 0s 718us/step - loss: 0.4092 - accuracy: 0.8024\n",
      "Epoch 5/100\n",
      "272/272 [==============================] - 0s 696us/step - loss: 0.4040 - accuracy: 0.8034\n",
      "Epoch 6/100\n",
      "272/272 [==============================] - 0s 694us/step - loss: 0.4006 - accuracy: 0.8069\n",
      "Epoch 7/100\n",
      "272/272 [==============================] - 0s 702us/step - loss: 0.3977 - accuracy: 0.8100\n",
      "Epoch 8/100\n",
      "272/272 [==============================] - 0s 698us/step - loss: 0.3968 - accuracy: 0.8086\n"
     ]
    },
    {
     "data": {
      "text/plain": [
       "<keras.src.callbacks.History at 0x7fc332ff1a10>"
      ]
     },
     "execution_count": 77,
     "metadata": {},
     "output_type": "execute_result"
    }
   ],
   "source": [
    "model.fit([X_train_home, X_train_spending, X_train_destination, X_train_rest], y_train, epochs=100, callbacks=[early_stop])"
   ]
  },
  {
   "cell_type": "code",
   "execution_count": 78,
   "id": "28b77d82-4a22-43ba-8d0a-a5592a0a447e",
   "metadata": {},
   "outputs": [
    {
     "name": "stdout",
     "output_type": "stream",
     "text": [
      "134/134 [==============================] - 0s 463us/step\n"
     ]
    }
   ],
   "source": [
    "predictions = model.predict([X_test_home, X_test_spending, X_test_destination, X_test_rest])"
   ]
  },
  {
   "cell_type": "code",
   "execution_count": 79,
   "id": "2eb87641-c187-499a-bb15-f56a8ba3e4c3",
   "metadata": {},
   "outputs": [],
   "source": [
    "y_pred = (predictions >= 0.5).astype(bool)"
   ]
  },
  {
   "cell_type": "code",
   "execution_count": 80,
   "id": "33fcbcb2-8965-4849-8331-8a3a67220276",
   "metadata": {},
   "outputs": [],
   "source": [
    "final_ouput = {\n",
    "    'PassengerId':test_df.index,\n",
    "    'Transported':y_pred.ravel()\n",
    "}"
   ]
  },
  {
   "cell_type": "code",
   "execution_count": 81,
   "id": "02dd8e14-6240-4f91-b39f-a0b6aeda0aee",
   "metadata": {},
   "outputs": [],
   "source": [
    "submission = pd.DataFrame(final_ouput)"
   ]
  },
  {
   "cell_type": "code",
   "execution_count": 82,
   "id": "34447e73-7a39-4065-a135-95cf07babe71",
   "metadata": {},
   "outputs": [],
   "source": [
    "submission.to_csv('complex_nn_predictions.csv', index_label=False, index=False)"
   ]
  },
  {
   "cell_type": "markdown",
   "id": "c4cc1451-0e8f-4cc8-88fc-91695f09adbf",
   "metadata": {},
   "source": [
    "#### The Score was 80.5%"
   ]
  },
  {
   "cell_type": "code",
   "execution_count": null,
   "id": "05bd9dc7-28cf-4d83-a6ad-d3cb712fe527",
   "metadata": {},
   "outputs": [],
   "source": []
  }
 ],
 "metadata": {
  "kernelspec": {
   "display_name": "Python 3 (ipykernel)",
   "language": "python",
   "name": "python3"
  },
  "language_info": {
   "codemirror_mode": {
    "name": "ipython",
    "version": 3
   },
   "file_extension": ".py",
   "mimetype": "text/x-python",
   "name": "python",
   "nbconvert_exporter": "python",
   "pygments_lexer": "ipython3",
   "version": "3.11.4"
  }
 },
 "nbformat": 4,
 "nbformat_minor": 5
}
